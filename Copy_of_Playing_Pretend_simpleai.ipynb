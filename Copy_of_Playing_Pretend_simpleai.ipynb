{
  "cells": [
    {
      "cell_type": "markdown",
      "metadata": {
        "id": "view-in-github",
        "colab_type": "text"
      },
      "source": [
        "<a href=\"https://colab.research.google.com/github/balloch/playingpretend/blob/colab_merge/Copy_of_Playing_Pretend_simpleai.ipynb\" target=\"_parent\"><img src=\"https://colab.research.google.com/assets/colab-badge.svg\" alt=\"Open In Colab\"/></a>"
      ]
    },
    {
      "cell_type": "markdown",
      "metadata": {
        "id": "41IxnGFx1EnS"
      },
      "source": [
        "# Making An Interactive TTRPG Story with simpleaichat\n",
        "\n",
        "An update to ChatGPT on June 13th, 2023 allows the user to set a predefined schema to have ChatGPT output data according to that schema and/or take in an input schema and respond better to that data. This \"function calling\" as OpenAI calls it can be used as a form of tools, but the schema, enabled by a JSON-finetuning of ChatGPT, is much more useful for typical generative AI use cases, particularly when not using GPT-4.\n",
        "\n",
        "OpenAI's [official demos](https://github.com/openai/openai-cookbook/blob/main/examples/How_to_call_functions_with_chat_models.ipynb) for this feature are complicated, but with simpleaichat, it's very easy to support placing your own data\n",
        "\n",
        "**NOTE: Ensuring input and output follows a complex predefined structure is very new in the field of prompt engineering and although it is very powerful, your mileage may vary.**\n"
      ]
    },
    {
      "cell_type": "code",
      "execution_count": null,
      "metadata": {
        "id": "KEnVk3lG1EnU",
        "colab": {
          "base_uri": "https://localhost:8080/"
        },
        "outputId": "085074f6-8082-40ed-a95d-2687dc2249aa"
      },
      "outputs": [
        {
          "output_type": "stream",
          "name": "stdout",
          "text": [
            "  Preparing metadata (setup.py) ... \u001b[?25l\u001b[?25hdone\n",
            "\u001b[2K     \u001b[90m━━━━━━━━━━━━━━━━━━━━━━━━━━━━━━━━━━━━━━━━\u001b[0m \u001b[32m395.8/395.8 kB\u001b[0m \u001b[31m8.5 MB/s\u001b[0m eta \u001b[36m0:00:00\u001b[0m\n",
            "\u001b[2K     \u001b[90m━━━━━━━━━━━━━━━━━━━━━━━━━━━━━━━━━━━━━━━━\u001b[0m \u001b[32m88.3/88.3 kB\u001b[0m \u001b[31m9.2 MB/s\u001b[0m eta \u001b[36m0:00:00\u001b[0m\n",
            "\u001b[?25h  Preparing metadata (setup.py) ... \u001b[?25l\u001b[?25hdone\n",
            "\u001b[2K     \u001b[90m━━━━━━━━━━━━━━━━━━━━━━━━━━━━━━━━━━━━━━━━\u001b[0m \u001b[32m75.7/75.7 kB\u001b[0m \u001b[31m8.5 MB/s\u001b[0m eta \u001b[36m0:00:00\u001b[0m\n",
            "\u001b[2K     \u001b[90m━━━━━━━━━━━━━━━━━━━━━━━━━━━━━━━━━━━━━━━━\u001b[0m \u001b[32m138.7/138.7 kB\u001b[0m \u001b[31m12.9 MB/s\u001b[0m eta \u001b[36m0:00:00\u001b[0m\n",
            "\u001b[2K     \u001b[90m━━━━━━━━━━━━━━━━━━━━━━━━━━━━━━━━━━━━━━━━\u001b[0m \u001b[32m76.0/76.0 kB\u001b[0m \u001b[31m6.9 MB/s\u001b[0m eta \u001b[36m0:00:00\u001b[0m\n",
            "\u001b[2K     \u001b[90m━━━━━━━━━━━━━━━━━━━━━━━━━━━━━━━━━━━━━━━━\u001b[0m \u001b[32m2.0/2.0 MB\u001b[0m \u001b[31m55.4 MB/s\u001b[0m eta \u001b[36m0:00:00\u001b[0m\n",
            "\u001b[2K     \u001b[90m━━━━━━━━━━━━━━━━━━━━━━━━━━━━━━━━━━━━━━━━\u001b[0m \u001b[32m58.3/58.3 kB\u001b[0m \u001b[31m6.4 MB/s\u001b[0m eta \u001b[36m0:00:00\u001b[0m\n",
            "\u001b[?25h  Building wheel for simpleaichat (setup.py) ... \u001b[?25l\u001b[?25hdone\n",
            "  Building wheel for fire (setup.py) ... \u001b[?25l\u001b[?25hdone\n",
            "\u001b[31mERROR: pip's dependency resolver does not currently take into account all the packages that are installed. This behaviour is the source of the following dependency conflicts.\n",
            "tensorflow 2.13.0 requires typing-extensions<4.6.0,>=3.6.6, but you have typing-extensions 4.8.0 which is incompatible.\u001b[0m\u001b[31m\n",
            "\u001b[0m"
          ]
        }
      ],
      "source": [
        "!pip install -q simpleaichat\n",
        "\n",
        "from simpleaichat import AIChat\n",
        "import orjson\n",
        "from rich.console import Console\n",
        "from getpass import getpass\n",
        "\n",
        "from typing import List, Literal, Optional, Union\n",
        "from pydantic import BaseModel, Field"
      ]
    },
    {
      "cell_type": "code",
      "source": [
        "api_key = \"\""
      ],
      "metadata": {
        "id": "OxdK7rk46MfM"
      },
      "execution_count": null,
      "outputs": []
    },
    {
      "cell_type": "markdown",
      "metadata": {
        "id": "gKzczai01EnV"
      },
      "source": [
        "For the following cell, input your OpenAI API key when prompted. **It will not be saved to the notebook**."
      ]
    },
    {
      "cell_type": "code",
      "execution_count": null,
      "metadata": {
        "id": "70uWaYiU1EnV"
      },
      "outputs": [],
      "source": [
        "api_key = getpass(\"OpenAI Key: \")"
      ]
    },
    {
      "cell_type": "code",
      "execution_count": null,
      "metadata": {
        "id": "QSJkdW2K1EnV"
      },
      "outputs": [],
      "source": [
        "system_prompt = \"You are a helpful assistant. You keep your answers brief. When asked for steps or a list you answer with an enumerated list. Only give the answer to the question, do not expound on your answers.\"\n",
        "\n",
        "logic_system_prompt = \"\"\"This is a logical, common sense, question answering task.\n",
        "Your job is to answer questions as simply and correctly as possible.\n",
        "When asked for steps or a list, please answer in an enumerated list.\n",
        "Only give the answer to the question, do not expound on your answers.\"\"\"\n",
        "\n",
        "creative_system_prompt = \"\"\"You are a children's story teller and game designer. Be creative but concise.\"\"\"\n",
        "better_system_prompt = \"\"\"You are a children's story teller and game designer.\n",
        "\n",
        "Write a setting description and two character sheets for the setting the user provides.\n",
        "\n",
        "Rules you MUST follow:\n",
        "- All names you create must be creative and unique. Always subvert expectations.\n",
        "- Include as much information as possible in your response.\"\"\"\n",
        "\n",
        "original_system_prompt = \"\"\"You are a world-renowned game master (GM) of tabletop role-playing games (RPGs).\n",
        "\n",
        "Write a setting description and two character sheets for the setting the user provides.\n",
        "\n",
        "Rules you MUST follow:\n",
        "- Always write in the style of 80's fantasy novels.\n",
        "- All names you create must be creative and unique. Always subvert expectations.\n",
        "- Include as much information as possible in your response.\"\"\""
      ]
    },
    {
      "cell_type": "code",
      "execution_count": null,
      "metadata": {
        "id": "1b2AaV0U1EnW"
      },
      "outputs": [],
      "source": [
        "# model = text-davinci-003  ## Doesn't work\n",
        "# params = {\"temperature\": 0.0, \"max_tokens\": 100}\n",
        "qa_ai = AIChat(system=system_prompt, model='gpt-3.5-turbo-0613', save_messages=False, api_key=api_key, params = {\"temperature\": 0.0})\n",
        "creative_ai = AIChat(system=creative_system_prompt, model=\"gpt-3.5-turbo-0613\", save_messages=True, api_key=api_key, params = {\"temperature\": 0.1})\n",
        "\n",
        "theme = 'Find Buried Pirate Treasure'"
      ]
    },
    {
      "cell_type": "code",
      "execution_count": null,
      "metadata": {
        "id": "OwhAiWfT1EnW"
      },
      "outputs": [],
      "source": [
        "# theme = 'slaying a dragon in a cave'\n",
        "\n",
        "#### Creative Bot #####\n",
        "# prompt = original_decomp.format(theme=theme)\n",
        "\n",
        "# response = creative_ai(theme)\n",
        "# print('response: ', response)\n"
      ]
    },
    {
      "cell_type": "code",
      "source": [
        "# corrector_prompt = \"Only give the answer to the question, do not expound on your answers\"\n",
        "# original_decomp = \"What are the steps required to {theme}?\"\n",
        "\n",
        "# #### Logic Bot #####\n",
        "# prompt = original_decomp.format(theme=theme)\n",
        "\n",
        "# response = qa_ai(prompt)\n",
        "# print('first response: ', response)\n",
        "# response_list = response.split('\\n')\n",
        "# if len(response_list[0]) > 30:\n",
        "#     correction = qa_ai(corrector_prompt)\n",
        "#     ## Sometimes the correction contains the answer, sometimes it just apologizes\n",
        "#     response_list = correction.split('\\n')\n",
        "#     if len(response_list) <= 2:\n",
        "#         correction = qa_ai(prompt)\n",
        "#         response_list = correction.split('\\n')\n",
        "#     print('correction: ', correction)\n",
        "# else:\n",
        "#     response_list = response.split('\\n')\n",
        "\n",
        "# response_list = [s.lstrip('0123456789 .').rstrip('.') for s in response_list]\n",
        "# for list_item in response_list:\n",
        "#     qa_ai(prompt)"
      ],
      "metadata": {
        "id": "aKcDIWibDI4z"
      },
      "execution_count": null,
      "outputs": []
    },
    {
      "cell_type": "code",
      "source": [
        "# AIChat(api_key=api_key)\n",
        "# AIChat(system=system_prompt, model=model, console=True, save_messages=True, api_key=api_key)"
      ],
      "metadata": {
        "id": "845jDCBLF53M"
      },
      "execution_count": null,
      "outputs": []
    },
    {
      "cell_type": "code",
      "execution_count": null,
      "metadata": {
        "id": "wl8AMs1cy2KI"
      },
      "outputs": [],
      "source": [
        "# response = ai(\"Python software development and beach volleyball\")\n",
        "# print(response)"
      ]
    },
    {
      "cell_type": "markdown",
      "metadata": {
        "id": "M-p-LG8M1EnX"
      },
      "source": [
        "Evocative, but a bit disorganized. If we instead allow for structured data output that follows specifications, then we'll have a lot more flexibility both in terms of directing generation, and playing with the resulting output.\n",
        "\n",
        "That's where the `schema_output` field comes in when generating. If you construct a schema with pydantic ,which is also installed with simpleaichat as it is used heavily internally, then the output will generally follow the schema you provide!\n",
        "\n",
        "We want an output containing the setting **name** and **description**, along with a list of player characters. Since each character has its own attributes, and we may want the model to generate multiple chatacters, we'll define a schema for that first.\n",
        "\n",
        "We must also set a description for each field, can provide further hints to ChatGPT for how to guide generation. There is a _lot_ of flexibility here!\n"
      ]
    },
    {
      "cell_type": "code",
      "execution_count": null,
      "metadata": {
        "id": "CT32lwOB1EnX"
      },
      "outputs": [],
      "source": [
        "class player_character(BaseModel):\n",
        "    name: str = Field(description=\"Character name\")\n",
        "    race: str = Field(description=\"Character race\")\n",
        "    job: str = Field(description=\"Character class/job\")\n",
        "    story: str = Field(description=\"Three-sentence character history\")\n",
        "    feats: List[str] = Field(description=\"Character feats\")\n",
        "    equipment: List[str] = Field(description=\"Character equipment\")"
      ]
    },
    {
      "cell_type": "markdown",
      "metadata": {
        "id": "FCWV3hw11EnY"
      },
      "source": [
        "An important note: with this new ChatGPT model, the\n",
        "\n",
        "1.   List item\n",
        "2.   List item\n",
        "\n",
        "fields are generated _in order_ at runtime according to the schema. Therefore, the order of the fields specified is important! Try to chain information!\n",
        "\n",
        "Now we can build the schema for the TTRPG we will send to ChatGPT. In this case, we will order the fields such that we generate `description` and then `name`, as the former will be more imaginative and the latter can be infered from it. We will also add a list of player characters using the player character schema above.\n",
        "\n",
        "Lastly, we will also include a docstring for the schema class; the specifics don't matter but it can provide another editorial hint.\n"
      ]
    },
    {
      "cell_type": "code",
      "execution_count": null,
      "metadata": {
        "id": "QmukQr6N1EnY"
      },
      "outputs": [],
      "source": [
        "class write_ttrpg_setting(BaseModel):\n",
        "    \"\"\"Write a fun and innovative live-action role playing scenario\"\"\"\n",
        "\n",
        "    description: str = Field(\n",
        "        description=\"Detailed description of the setting in the voice of the game master\"\n",
        "    )\n",
        "    quest: str = Field(description=\"The challenge that the players are trying to overcome.\")\n",
        "    success_metric: str = Field(description=\"A concise, one-sentence explanation of how the players will know they have succeeded at their quest.\")\n",
        "    init: str = Field(description=\"Where does the adventure begin?\")  ####### This should be determined by the real world\n",
        "    name: str = Field(description=\"Name of the setting\")\n",
        "    pcs: List[player_character] = Field(description=\"Player characters of the game\")"
      ]
    },
    {
      "cell_type": "code",
      "execution_count": null,
      "metadata": {
        "id": "IHkgbuPk1EnY"
      },
      "outputs": [],
      "source": [
        "# response_structured = creative_ai(\n",
        "#     theme, output_schema=write_ttrpg_setting\n",
        "# )\n",
        "\n",
        "# orjson.dumps preserves field order from the ChatGPT API\n",
        "# print(orjson.dumps(response_structured, option=orjson.OPT_INDENT_2).decode())"
      ]
    },
    {
      "cell_type": "markdown",
      "metadata": {
        "id": "Ju28C3OS1EnZ"
      },
      "source": [
        "Since the output is structured, we can parse it as we want.\n",
        "\n",
        "For example, if we just want the setting name:\n"
      ]
    },
    {
      "cell_type": "code",
      "source": [
        "# response_structured['name']"
      ],
      "metadata": {
        "id": "wDtYrW_SjZFW"
      },
      "execution_count": null,
      "outputs": []
    },
    {
      "cell_type": "code",
      "execution_count": null,
      "metadata": {
        "id": "Q4-WPtFr1EnZ",
        "colab": {
          "base_uri": "https://localhost:8080/"
        },
        "outputId": "5f074416-1e99-4944-fcc2-3b28d208b8c2"
      },
      "outputs": [
        {
          "output_type": "stream",
          "name": "stdout",
          "text": [
            "{'refrigerator', 'microwave', 'knife', 'tea can', 'coffee can', 'electric kettle', 'garbage can door', 'fork', 'sink', 'door', 'kitchen island', 'coffee machine', 'garbage can', 'spoon'}\n"
          ]
        }
      ],
      "source": [
        "real_object_list = [\n",
        "    'refrigerator_1',\n",
        "    'refrigerator_2',\n",
        "    'kitchen_island_1',\n",
        "    'electric_kettle_1',\n",
        "    'electric_kettle_2',\n",
        "    'coffee_machine_1',\n",
        "    'coffee_machine_2',\n",
        "    'microwave_1',\n",
        "    'microwave_2',\n",
        "    'coffee_can_1',\n",
        "    'tea_can_1',\n",
        "    'door_1',\n",
        "    'garbage_can_1',\n",
        "    'garbage_can_door_1',\n",
        "    'sink_1',\n",
        "    'fork_1',\n",
        "    'spoon_1',\n",
        "    'knife_1',\n",
        "]\n",
        "\n",
        "objects_stripped = [s.rstrip('01234567890_').replace('_',' ') for s in real_object_list]\n",
        "object_types = set(objects_stripped)\n",
        "print(object_types)\n",
        "\n",
        "real_object_locations = {\n",
        "    'refrigerator_1':2,\n",
        "    'refrigerator_2':3,\n",
        "    'kitchen_island_1':5,\n",
        "    'electric_kettle_1':4,\n",
        "    'electric_kettle_2':4,\n",
        "    'coffee_machine_1':5,\n",
        "    'coffee_machine_2':6,\n",
        "    'microwave_1':7,\n",
        "    'microwave_2':7,\n",
        "    'coffee_can_1':4,\n",
        "    'tea_can_1':4,\n",
        "    'door_1':1,\n",
        "    'garbage_can_1':5,\n",
        "    'garbage_can_door_1':5,\n",
        "    'sink_1':5,\n",
        "    'fork_1':4,\n",
        "    'spoon_1':4,\n",
        "    'knife_1':4,\n",
        "}\n",
        "\n",
        "themes = [\n",
        "    'Being a Waiter/Waitress',\n",
        "    'Being a Zookeeper',\n",
        "    'Being a Florist',\n",
        "    'Being a Actor/Actress',\n",
        "    'Being a Chef',\n",
        "    'Being a Doctor',\n",
        "    'Being a Teacher',\n",
        "    'Being a Detective',\n",
        "    'Running a Farm',\n",
        "    'Running a zoo',\n",
        "    'being in the circus',\n",
        "    'being an astronaut and going to outer space',\n",
        "    'Saving the day as a superhero',\n",
        "    'Fairies in a fairie tale',\n",
        "    'Make something as a construction worker'\n",
        "\n",
        "]"
      ]
    },
    {
      "cell_type": "code",
      "source": [
        "def tidy_llm_list_string(llm_list_string, strip_nums=True):\n",
        "    if type(llm_list_string) is str:\n",
        "        llm_list = llm_list_string.split('\\n')\n",
        "        if len(llm_list) == 1 and len(llm_list_string.split(',')) > 1:\n",
        "            print('WARNING: splitting on commas')  # TODO balloch: make this a real warning\n",
        "            llm_list = llm_list_string.split(',')\n",
        "    else:\n",
        "        llm_list = llm_list_string\n",
        "    if strip_nums:\n",
        "        return [s.lstrip('0123456789 .').rstrip(' .').strip() for s in llm_list]\n",
        "    return [s.strip() for s in llm_list]\n",
        "\n"
      ],
      "metadata": {
        "id": "l-aCEeNdP-Mk"
      },
      "execution_count": null,
      "outputs": []
    },
    {
      "cell_type": "markdown",
      "source": [
        "# Ask a logic bot"
      ],
      "metadata": {
        "id": "W6q2CHD9LpHJ"
      }
    },
    {
      "cell_type": "code",
      "source": [
        "story = creative_ai(f\"Write a short story featuring two friends, Astro and Playmate, about {theme} that a 5 year old would understand and enjoy\")\n",
        "print('story, ', story)\n",
        "gen_loc = qa_ai(f\"Given the story {story}, where does the story take place? If you can't tell from the story, just say 'Location Name: The story world' \\n Example: 'Location Name: <example name>' \")\n",
        "gen_loc = gen_loc.replace('Location Name:','').strip()\n",
        "print('##gen_loc?, ', gen_loc)\n",
        "\n",
        "# story_init_loc = qa_ai(f\"Given the story '{story}' \\n that takes place in {gen_loc}, what specific location within {gen_loc} where the characters most likely begin the story, before they {theme}. Only answer with the Location Name. \\n Example: 'Location Name: <example_location_inside_{gen_loc}>'\")\n",
        "story_init_loc = creative_ai(f\"Given the story which takes place in {gen_loc}, what specific location within {gen_loc} are the characters most likely begin the story, before they {theme}? Only answer with the Location Name. \\n Example: 'Location Name: <example_location_inside_{gen_loc}>'\")\n",
        "# story_init_loc = story_init_loc.split('\\n')\n",
        "story_init_loc = story_init_loc.replace('Location Name:','').strip()\n",
        "print('##story init loc, ', story_init_loc)\n",
        "# story_init_loc[1] = story_init_loc[1].replace('Location Type: ','').strip()\n",
        "\n",
        "# story = qa_ai(f\"Rewrite the story {story}, using proper nouns instead of pronouns wherever possible.\")\n",
        "\n",
        "story_points = qa_ai(f\"Given the story {story}, only using sentences with one clause list the five most important actions the characters made in the story to {theme}.\") # Use proper nouns instead of pronouns wherever possible\")\n",
        "story_points_list = tidy_llm_list_string(story_points)\n",
        "print('##story_points, ', story_points_list)\n",
        "creative_story_points = creative_ai(f\"Given the story {story}, only using sentences with one clause list the five most important actions the characters made in the story to {theme}.\") # Use proper nouns instead of pronouns wherever possible\")\n",
        "creative_story_points_list = tidy_llm_list_string(creative_story_points)\n",
        "print('##creative_story_points_list, ', creative_story_points_list)\n",
        "\n"
      ],
      "metadata": {
        "id": "8RjyFYJbwy1m",
        "colab": {
          "base_uri": "https://localhost:8080/"
        },
        "outputId": "8bd67c1f-f179-4045-cfad-4b1dccab62e4"
      },
      "execution_count": null,
      "outputs": [
        {
          "output_type": "stream",
          "name": "stdout",
          "text": [
            "story,  Once upon a time, in a small town by the sea, there were two best friends named Astro and Playmate. They loved going on adventures together and dreaming about finding buried pirate treasure.\n",
            "\n",
            "One sunny day, Astro and Playmate decided to embark on their biggest adventure yet. They packed their backpacks with snacks, a treasure map, and a trusty shovel. With excitement in their hearts, they set off to find the hidden treasure.\n",
            "\n",
            "Following the map's clues, they walked through a dense forest, crossed a sparkling river, and climbed a steep hill. Finally, they reached a mysterious cave. Inside, they found a secret passage that led them deep underground.\n",
            "\n",
            "In the dimly lit tunnel, Astro and Playmate discovered glittering gems and ancient artifacts. But their eyes were set on the ultimate prize—the buried pirate treasure. They continued their journey, determined to find it.\n",
            "\n",
            "After what felt like hours, they reached a large chamber filled with golden coins, sparkling jewels, and shiny swords. It was the pirate's treasure! Astro and Playmate couldn't believe their eyes. They danced with joy and hugged each other tightly.\n",
            "\n",
            "But suddenly, they heard a noise. It was Captain Bones, the ghost pirate who guarded the treasure. He appeared before them, looking fierce and scary. Astro and Playmate were frightened, but they remembered their bravery.\n",
            "\n",
            "With quick thinking, Astro and Playmate offered Captain Bones their friendship and shared their excitement about finding the treasure. Surprisingly, Captain Bones smiled and told them a secret. He had been lonely for centuries and was grateful for their company.\n",
            "\n",
            "Astro, Playmate, and Captain Bones spent the rest of the day playing games, telling stories, and sharing laughter. They became the best of friends. As the sun began to set, Astro and Playmate knew it was time to leave.\n",
            "\n",
            "With their backpacks filled with a few treasures, they bid farewell to Captain Bones, promising to visit again someday. They climbed back up the secret passage, through the cave, and made their way home.\n",
            "\n",
            "Astro and Playmate returned to their town, their hearts filled with joy and memories of their incredible adventure. They knew that true treasure wasn't just gold and jewels, but the friendships they made along the way.\n",
            "\n",
            "And so, Astro and Playmate continued to dream of more adventures, knowing that with their friendship, anything was possible. The end.\n",
            "##gen_loc?,  A small town by the sea\n",
            "##story init loc,  The Beach\n",
            "##story_points,  ['Packed their backpacks with snacks, a treasure map, and a trusty shovel', \"Followed the map's clues through a dense forest, crossed a sparkling river, and climbed a steep hill\", 'Discovered a mysterious cave and found a secret passage that led them deep underground', 'Explored the dimly lit tunnel and discovered glittering gems and ancient artifacts', 'Reached a large chamber filled with golden coins, sparkling jewels, and shiny swords, where they found the buried pirate treasure']\n",
            "##creative_story_points_list,  ['Astro and Playmate packed their backpacks with snacks, a treasure map, and a trusty shovel', \"They followed the map's clues, walking through a dense forest, crossing a sparkling river, and climbing a steep hill\", 'Astro and Playmate discovered a mysterious cave and found a secret passage that led them deep underground', \"They reached a large chamber filled with golden coins, sparkling jewels, and shiny swords, where they found the pirate's treasure\", 'Astro and Playmate offered Captain Bones their friendship and shared their excitement about finding the treasure, leading to a newfound friendship and a day filled with games, stories, and laughter']\n"
          ]
        }
      ]
    },
    {
      "cell_type": "code",
      "source": [
        "import inspect\n",
        "import pandas as pd\n",
        "\n",
        "\n",
        "#TODO balloch: keeping a record of this with something like pandas will allow you to do lookups according to similar features\n",
        "class Task: #(BaseModel)\n",
        "\n",
        "    def __init__(self, name, expected_start_location=None, expected_visit_location=[], objects_required=[], primitive_fn=None, subtasks=[], effects=None, root=False):\n",
        "        # super().__init__(**kwargs)\n",
        "        self.name = name\n",
        "        # self.terms = terms  ## preconditions\n",
        "        self.expected_start_location = expected_start_location\n",
        "        self.expected_visit_location = expected_visit_location\n",
        "        self.objects_required = objects_required\n",
        "        self.primitive_fn = primitive_fn\n",
        "        self.subtasks = subtasks\n",
        "        self.effects = effects\n",
        "        self.root = root\n",
        "\n",
        "    def __hash__(self):\n",
        "        return hash(frozenset((self.name, self.primitive_fn)))\n",
        "\n",
        "    def __eq__(self, other):\n",
        "        return isinstance(other, Task) and self.name == other.name and self.primitive_fn == other.primitive_fn\n",
        "\n",
        "    def __ne__(self, other):\n",
        "        return not self.__eq__(other)\n",
        "\n",
        "\n",
        "class Object: #(BaseModel)\n",
        "    object_coll = {}\n",
        "    def __init__(self, name, loc):\n",
        "        self.name = name\n",
        "        self.init_loc = loc\n",
        "        iter = self._put(loc)\n",
        "        self.init_iter = iter\n",
        "\n",
        "    def _put(self, new_loc):\n",
        "        if (self.name, new_loc) in self.object_coll:\n",
        "            self.object_coll[(self.name,new_loc)].append(self)\n",
        "        else:\n",
        "            self.object_coll[(self.name,new_loc)]=[self]\n",
        "        self.loc = new_loc\n",
        "        len(self.object_coll[(self.name,new_loc)])\n",
        "        self.iter = iter\n",
        "        return iter\n",
        "\n",
        "    def move(self, new_loc):\n",
        "        self.object_coll[(self.name,self.loc)].remove[self.iter]\n",
        "        self._put(new_loc)\n",
        "\n",
        "    def __hash__(self):\n",
        "        return hash(frozenset((self.name, self.init_loc, self.init_iter)))\n",
        "\n",
        "    def __eq__(self, other):\n",
        "        return isinstance(other, Object) and self.name == other.name and self.init_loc == other.loc and self.init_iter == other.init_iter\n",
        "\n",
        "    def __ne__(self, other):\n",
        "        return not self.__eq__(other)\n",
        "\n",
        "\n",
        "\n",
        "# def add_object_to_df(df, class_obj):\n",
        "#     ## check if the DF is associated with this type of class:\n",
        "#     print(type(df['obj'].iloc[0]))\n",
        "#     print(type(class_obj))\n",
        "#     if isinstance(class_obj, df['obj'].iloc[0].__class__):\n",
        "#         df = df.append([[class_obj] + list(class_obj.__dict__.values())])\n",
        "#     return df\n",
        "\n",
        "\n",
        "\n",
        "## Dummy robot API functions\n",
        "## Assumption: manually need to specify expected effect for primitives\n",
        "class RobotAPI:\n",
        "    def __init__(self, init_loc, real_graph=None, inventory=None):\n",
        "        self.curr_loc = init_loc\n",
        "        self.graph = real_graph\n",
        "        if inventory is None:\n",
        "            self.inventory = {}  ## items are <hash: object>\n",
        "        elif isinstance(inventory,dict):\n",
        "            self.inventory = inventory\n",
        "        else:\n",
        "            raise TypeError('only \"None\" and \"dict\" allowed right now')\n",
        "        self._errors = []\n",
        "\n",
        "    def _move(self, dir='forward'):\n",
        "        if dir != 'forward':\n",
        "            raise NotImplementedError('Only forward motion currently implemented')\n",
        "        return NotImplementedError('still using teleportation')\n",
        "\n",
        "    def _turn(self, dir):\n",
        "        if dir not in ('right', 'left'):\n",
        "            raise NotImplementedError('Only left and right turns currently implemented')\n",
        "        return NotImplementedError('still using teleportation')\n",
        "\n",
        "    def go_To(self, loc):\n",
        "        ## TODO balloch: currently teleport. Add A* and use _move and _turn\n",
        "        if len(self._errors) > 0:\n",
        "            self._errors = []\n",
        "        self.curr_loc = loc\n",
        "        print('Winning!')\n",
        "        return self._errors\n",
        "\n",
        "    def go_To_Object(self, obj, loc=None):\n",
        "        obj_loc = obj.loc\n",
        "        return self.go_To(obj_loc)\n",
        "\n",
        "    def pick_Object(self, obj, id=None):\n",
        "        if len(self._errors) > 0:\n",
        "            self._errors = []\n",
        "        if isinstance(obj, str) and (obj, self.curr_loc) in Object.object_coll:\n",
        "            real_obj = Object.object_coll[obj, self.curr_loc][0]\n",
        "        elif isinstance(obj, Object) and real_obj.loc == self.curr_loc:\n",
        "            real_obj = obj\n",
        "        else:\n",
        "            self._errors.append(f'No object {real_obj} at {self.curr_loc}')\n",
        "            return self._errors\n",
        "        self.inventory[hash] = real_obj\n",
        "        real_obj.move('inventory')\n",
        "        return self._errors\n",
        "\n",
        "    def put_Object(self, obj, id=None):\n",
        "        if len(self._errors) > 0:\n",
        "            self._errors = []\n",
        "        ## Find object in inventory:\n",
        "        if isinstance(obj, str):\n",
        "            for hash, inv_obj in self.inventory.items():\n",
        "                if inv_obj.name == obj:\n",
        "                    real_obj = inv_obj\n",
        "                    break\n",
        "        elif isinstance(obj, Object):\n",
        "            hash = obj.__hash__()\n",
        "            if hash in self.inventory:\n",
        "                real_obj = obj\n",
        "        else:\n",
        "            self._errors.append(f'No object {real_obj} in inventory')\n",
        "            return self._errors\n",
        "        del self.inventory[hash]\n",
        "        real_obj.move(self.curr_loc)\n",
        "        return self._errors\n",
        "\n",
        "    def use_Object(self, obj, func=None, id=None, obj2=None, id2=None):\n",
        "        if len(self._errors) > 0:\n",
        "            self._errors = []\n",
        "        if isinstance(obj, str):\n",
        "            for hash, inv_obj in self.inventory.items():\n",
        "                if inv_obj.name == obj:\n",
        "                    real_obj = inv_obj\n",
        "                    break\n",
        "        elif isinstance(obj, Object):\n",
        "            hash = obj.__hash__()\n",
        "            if hash in self.inventory:\n",
        "                real_obj = obj\n",
        "        else:\n",
        "            self._errors.append(f'No object {real_obj} in inventory')\n",
        "            return self._errors\n",
        "        if real_obj.use_fn is not None:\n",
        "            real_obj.use_fn(func=func)\n",
        "        else:\n",
        "            self._errors.append(f'Object {real_obj} has no such use')\n",
        "            return self._errors\n",
        "        return self._errors\n",
        "\n",
        "\n",
        "\n",
        "## Imaginary matching primitive_fns\n",
        "## TODO balloch there should be some clever way to make this automatic with LLMs, shouldn't have to specify\n",
        "class ImaginaryAgent:\n",
        "    def __init__(self, init_loc, imaginary_graph=None, inventory=None):\n",
        "        self.curr_loc = init_loc\n",
        "        self.graph = imaginary_graph\n",
        "        if inventory is None:\n",
        "            self.inventory = {}  ## items are <hash: object>\n",
        "        elif isinstance(inventory,dict):\n",
        "            self.inventory = inventory\n",
        "        else:\n",
        "            raise TypeError('only \"None\" and \"dict\" allowed right now')\n",
        "        self._errors = []\n",
        "\n",
        "    def go_To(self, loc):\n",
        "        ## TODO balloch: currently teleport. Add A* and use _move and _turn\n",
        "        if len(self._errors) > 0:\n",
        "            self._errors = []\n",
        "        self.curr_loc = loc\n",
        "        print('Winning!')\n",
        "        return self._errors\n",
        "\n",
        "    def go_To_Object(self, obj, loc=None):\n",
        "        obj_loc = obj.loc\n",
        "        return self.go_To(obj_loc)\n",
        "\n",
        "    def pick_Object(self, obj, id=None):\n",
        "        if len(self._errors) > 0:\n",
        "            self._errors = []\n",
        "        if isinstance(obj, str) and (obj, self.curr_loc) in Object.object_coll:\n",
        "            real_obj = Object.object_coll[obj, self.curr_loc][0]\n",
        "        elif isinstance(obj, Object) and real_obj.loc == self.curr_loc:\n",
        "            real_obj = obj\n",
        "        else:\n",
        "            self._errors.append(f'No object {real_obj} at {self.curr_loc}')\n",
        "            return self._errors\n",
        "        self.inventory[hash] = real_obj\n",
        "        real_obj.move('inventory')\n",
        "        return self._errors\n",
        "\n",
        "    def put_Object(self, obj, id=None):\n",
        "        if len(self._errors) > 0:\n",
        "            self._errors = []\n",
        "        ## Find object in inventory:\n",
        "        if isinstance(obj, str):\n",
        "            for hash, inv_obj in self.inventory.items():\n",
        "                if inv_obj.name == obj:\n",
        "                    real_obj = inv_obj\n",
        "                    break\n",
        "        elif isinstance(obj, Object):\n",
        "            hash = obj.__hash__()\n",
        "            if hash in self.inventory:\n",
        "                real_obj = obj\n",
        "        else:\n",
        "            self._errors.append(f'No object {real_obj} in inventory')\n",
        "            return self._errors\n",
        "        del self.inventory[hash]\n",
        "        real_obj.move(self.curr_loc)\n",
        "        return self._errors\n",
        "\n",
        "    def use_Object(self, obj, func=None, id=None, obj2=None, id2=None):\n",
        "        if len(self._errors) > 0:\n",
        "            self._errors = []\n",
        "        if isinstance(obj, str):\n",
        "            for hash, inv_obj in self.inventory.items():\n",
        "                if inv_obj.name == obj:\n",
        "                    real_obj = inv_obj\n",
        "                    break\n",
        "        elif isinstance(obj, Object):\n",
        "            hash = obj.__hash__()\n",
        "            if hash in self.inventory:\n",
        "                real_obj = obj\n",
        "        else:\n",
        "            self._errors.append(f'No object {real_obj} in inventory')\n",
        "            return self._errors\n",
        "        if real_obj.use_fn is not None:\n",
        "            real_obj.use_fn(func=func)\n",
        "        else:\n",
        "            self._errors.append(f'Object {real_obj} has no such use')\n",
        "            return self._errors\n",
        "        return self._errors\n",
        "\n",
        "\n",
        "    imag_fn_map = {\n",
        "        'go_To': go_To,\n",
        "        'go_To_Object': go_To_Object,\n",
        "    }\n",
        "\n",
        "\n",
        "\n",
        "\n",
        "\n",
        "\n",
        "# testing_df = pd.DataFrame([[story_tree] + list(story_tree.__dict__.values())], columns=['obj']+list(story_tree.__dict__.keys()))\n",
        "# print(testing_df)\n",
        "# print(add_object_to_df(testing_df, story_tree))\n",
        "\n"
      ],
      "metadata": {
        "id": "lTesMv8BMYSD"
      },
      "execution_count": null,
      "outputs": []
    },
    {
      "cell_type": "code",
      "source": [
        "\n",
        "init_robot_loc = 0\n",
        "init_imaginary_loc = 'treehouse'\n",
        "robot_api = RobotAPI(init_robot_loc)\n",
        "im_agent = ImaginaryAgent(init_imaginary_loc)\n",
        "## Start with a list of lists, then turn into a\n",
        "\n",
        "real_tasks = []\n",
        "imaginary_tasks = []\n",
        "\n",
        "## Initialize API functions as primitive tasks\n",
        "for primitive in inspect.getmembers(RobotAPI, predicate=inspect.isfunction):\n",
        "    primitive_str = str(primitive[0])\n",
        "    if primitive_str[0] != '_':\n",
        "        ## Autoground:\n",
        "\n",
        "        real = Task(\n",
        "            name = primitive_str,\n",
        "            primitive_fn = primitive[1],\n",
        "            )\n",
        "        # imaginary_fn = lambda\n",
        "        imaginary = Task(\n",
        "            name = primitive_str,\n",
        "            primitive_fn = getattr(im_agent, primitive_str),\n",
        "            )\n",
        "\n",
        "        real_tasks.append(real)\n",
        "        imaginary_tasks.append(imaginary)\n",
        "\n",
        "print(real_tasks)\n",
        "print(imaginary_tasks)\n",
        "\n",
        "for obj, loc in real_object_locations.items():\n",
        "    name = obj.rstrip('1234567890_').replace('_',' ')\n",
        "    print(name)\n",
        "    Object(name,loc)\n",
        "\n",
        "print(Object.object_coll)\n",
        "story_tree = Task(\n",
        "    name=theme,\n",
        "    expected_start_location=story_init_loc,\n",
        "    expected_visit_location=[],\n",
        "    objects_required= None,\n",
        "    primitive_fn = None,\n",
        "    subtasks=[],\n",
        "    root=True,\n",
        ")\n",
        "\n",
        "\n"
      ],
      "metadata": {
        "colab": {
          "base_uri": "https://localhost:8080/"
        },
        "id": "yZg7zVziVR60",
        "outputId": "d81e996c-bce9-4977-9a7b-798cd29d7fc2"
      },
      "execution_count": null,
      "outputs": [
        {
          "output_type": "stream",
          "name": "stdout",
          "text": [
            "[<__main__.Task object at 0x7cdc153f0040>, <__main__.Task object at 0x7cdc153f0430>, <__main__.Task object at 0x7cdc153f0250>, <__main__.Task object at 0x7cdc153f02b0>, <__main__.Task object at 0x7cdc153f01f0>]\n",
            "[<__main__.Task object at 0x7cdc153f0100>, <__main__.Task object at 0x7cdc153f0190>, <__main__.Task object at 0x7cdc153f0280>, <__main__.Task object at 0x7cdc153f02e0>, <__main__.Task object at 0x7cdc153f0220>]\n",
            "refrigerator\n",
            "refrigerator\n",
            "kitchen island\n",
            "electric kettle\n",
            "electric kettle\n",
            "coffee machine\n",
            "coffee machine\n",
            "microwave\n",
            "microwave\n",
            "coffee can\n",
            "tea can\n",
            "door\n",
            "garbage can\n",
            "garbage can door\n",
            "sink\n",
            "fork\n",
            "spoon\n",
            "knife\n",
            "{('refrigerator', 2): [<__main__.Object object at 0x7cdc153f1b40>], ('refrigerator', 3): [<__main__.Object object at 0x7cdc153f1e70>], ('kitchen island', 5): [<__main__.Object object at 0x7cdc153f0910>], ('electric kettle', 4): [<__main__.Object object at 0x7cdc15401090>, <__main__.Object object at 0x7cdc153f0940>], ('coffee machine', 5): [<__main__.Object object at 0x7cdc153f0af0>], ('coffee machine', 6): [<__main__.Object object at 0x7cdc153f1ba0>], ('microwave', 7): [<__main__.Object object at 0x7cdc153f0400>, <__main__.Object object at 0x7cdc153f0070>], ('coffee can', 4): [<__main__.Object object at 0x7cdc15401060>], ('tea can', 4): [<__main__.Object object at 0x7cdc154014e0>], ('door', 1): [<__main__.Object object at 0x7cdc15401570>], ('garbage can', 5): [<__main__.Object object at 0x7cdc154002b0>], ('garbage can door', 5): [<__main__.Object object at 0x7cdc15400040>], ('sink', 5): [<__main__.Object object at 0x7cdc15401300>], ('fork', 4): [<__main__.Object object at 0x7cdc15400ee0>], ('spoon', 4): [<__main__.Object object at 0x7cdc15400850>], ('knife', 4): [<__main__.Object object at 0x7cdc154006a0>]}\n"
          ]
        }
      ]
    },
    {
      "cell_type": "code",
      "source": [
        "## TODO balloch: automate this above\n",
        "characters = ['Astro', 'Playmate']\n",
        "lc = len(characters)\n",
        "if lc > 1:\n",
        "    the_characters = 'and ' + characters[-1]\n",
        "    if lc > 2:\n",
        "        the_characters = ', ' + the_characters\n",
        "    for cha in characters[:lc-1]:\n",
        "        the_characters += cha\n",
        "\n",
        "story_point_list_present = [qa_ai(f\"Convert the following sentence to present tense: {point}\") for point in enumerate(story_points_list)]\n",
        "print('##story_point_list_present, ', story_point_list_present)\n",
        "\n",
        "state = {'time':0, 'loc':story_init_loc,} # 'loc_type':story_init_loc[1],}\n",
        "print('##state, ', state)\n",
        "\n",
        "\n",
        "# del creative_ai.default_session.messages[3:] ## Only for colab debugging\n",
        "\n",
        "# story_tree = {\n",
        "#     'task_description': theme,\n",
        "#     'expected_start_location' : story_init_loc,\n",
        "#     'expected_visit_location' : [],\n",
        "#     'objects_required': None,\n",
        "#     'primitive_fn' : None,\n",
        "#     'subtasks' : [],\n",
        "#     'root' : True,\n",
        "# }\n",
        "# story_tree = Task(\n",
        "#     'name'=theme,\n",
        "#     'expected_start_location'=story_init_loc,\n",
        "#     'expected_visit_location'=[],\n",
        "#     'objects_required'= None,\n",
        "#     'primitive_fn' = None,\n",
        "#     'subtasks' = [],\n",
        "#     'root' = True,\n",
        "# )\n",
        "\n",
        "init_loc = story_init_loc\n",
        "\n",
        "for idx, point in enumerate(story_point_list_present):\n",
        "    current_task = Task(\n",
        "        name= point,\n",
        "        expected_start_location= init_loc,\n",
        "    )\n",
        "    # Check primitives i.e. if they have to possess something to do this story point\n",
        "    #############\n",
        "    ##### Primitive Decomps:\n",
        "    #############\n",
        "    print('##point, ', point)\n",
        "\n",
        "    ### Locations\n",
        "    move_tf = qa_ai(f\"True or False: it is possible the {the_characters} can successfully '{point}' while staying at {state['loc']}.\") # \\n context story: \\n {story} \\n .\")\n",
        "    print('##Unecessary to Move?, ', move_tf)\n",
        "    if move_tf[0:4] == 'True':\n",
        "        move_tf = True\n",
        "    elif move_tf[0:5] == 'False':\n",
        "        move_tf = False\n",
        "    else:\n",
        "        raise TypeError\n",
        "\n",
        "    if move_tf is False:\n",
        "        ## TODO balloch: Add a location precondition and a move subtask\n",
        "        ## TODO balloch: the below should be a function than any AI can use, where the parameters passed are (1) prompt, 'while' criteria function and variables, attempt limit, and 'validation function'\n",
        "        new_locs_list = []\n",
        "        attempt = 0\n",
        "        creative_ai.default_session.messages.append('temp')\n",
        "        while not len(new_locs_list):\n",
        "            del creative_ai.default_session.messages[-1]\n",
        "            print(attempt)\n",
        "            new_loc = qa_ai(f\"In the context of the story {story}, what are the places within {gen_loc} where the characters would most likely need to travel from {state['loc']} to {point}? Only respond with the list of location names, nothing more. \")  #[Example]'Location Name: <example_location>'\") ### TODO balloch: may need creative ai\n",
        "            creative_loc = creative_ai(f\"Given the story, what are the places within {gen_loc} where the characters would most likely need to travel from {state['loc']} to {point}? Only respond with the list of location names, nothing more\")\n",
        "            print('##next_loc?, ', new_loc)\n",
        "            print('##creative_loc?, ', creative_loc)\n",
        "            new_loc = new_loc.replace('Location Name:','').strip()\n",
        "            new_locs_list = tidy_llm_list_string(new_loc, strip_nums=True)\n",
        "            # new_locs_list = [s.strip() for s in new_locs_list]\n",
        "            ## Exposition Check and remove\n",
        "            # if len(new_locs_list) > 1:\n",
        "            #     orig_len = len(new_locs_list)\n",
        "            #     for i in reversed(range(orig_len)):\n",
        "            #         if len(new_locs_list[i]) == 0 or new_locs_list[i][0] not in ('0','1','2','3','4','5','6','7','8','9'):\n",
        "            #             print('deleting: ',new_locs_list[i])\n",
        "            #             del new_locs_list[i]\n",
        "            attempt += 1\n",
        "            if attempt > 5:\n",
        "                raise IndexError\n",
        "        new_locs_list = tidy_llm_list_string(new_locs_list)  #[s.lstrip('0123456789 .').rstrip(' .') for s in new_locs_list]\n",
        "        ## TODO balloch: ground at least one of these locations\n",
        "        current_task.expected_visit_location = new_locs_list\n",
        "        print('##new_locs_list, ', new_locs_list)\n",
        "    ## Need to update the location per question\n",
        "    if idx+1 < len(story_point_list_present):\n",
        "        creative_future_loc = creative_ai(f\"Given the story, what is the place within {gen_loc} that {the_characters} must be before they start to {story_point_list_present[idx+1]}? Only respond with the name of one location, nothing more\")\n",
        "        print('creative_future_loc, ', creative_future_loc)   # where is the most likely/best starting point for a task like ________\n",
        "\n",
        "        init_loc = tidy_llm_list_string(creative_future_loc)[0]  #[s.lstrip('0123456789 .').rstrip(' .') for s in creative_future_loc.split('\\n')][0]\n",
        "        if False:  ## TODO: potentially better solution for the future\n",
        "            init_loc = qa_ai(f\"Choose the location category that is most likely best to start to {story_point_list_present[idx+1]}: [Categories] \\n {creative_future_loc} \\n Only respond with the location name, nothing more. \")  #[Example]'Location Name: <example_location>'\") ### TODO balloch: may need creative ai\n",
        "        init_loc = init_loc.replace('Location Name:','').strip()\n",
        "        print('future_loc, ', init_loc)   # where is the most likely/best starting point for a task like ________\n",
        "\n",
        "        # del creative_ai.default_session.messages[-1]\n",
        "\n",
        "    ### Objects\n",
        "    get_objects = qa_ai(f\"List the physical objects referenced in the sentence. \\n [Example] \\n Sentence: 'Do research and find evidence or maps that lead to the treasures whereabouts' \\n Objects: 1. evidence \\n 2. map \\n 2. treasure. \\n [Query] \\n Sentence: '{point}' \\n Objects: \")\n",
        "    get_objects = tidy_llm_list_string(get_objects)  ## TODO balloch make this a lambda\n",
        "    print('##get_objects, ', get_objects)\n",
        "    # need_item_tf = qa_ai(f\"True or False: In the story: \\n {story} \\n is it necessary to 'have' {get_objects} to {point_present}?\")\n",
        "    # need_item_tf = qa_ai(f\"In the story: \\n {story} \\n For the characters to {point_present} what physical items are necessary besides {get_objects}?\")  ## Doesn't work tooo complex\n",
        "    current_task.objects_required = get_objects\n",
        "    obj_uses = []\n",
        "    if len(get_objects) > 0:\n",
        "        for obj in get_objects:\n",
        "            obj_possess_tf = qa_ai(f\"True or False: In the sentence '{point}', the {obj} is possessed or acquired. \")\n",
        "            print('###', obj, \"possessed or acquired: \", obj_possess_tf)\n",
        "            obj_use_tf = qa_ai(f\"What one word best describes how the {the_characters} use {obj} in {point}'? \")\n",
        "            print('###', obj, \"how used: \", obj_use_tf)\n",
        "\n",
        "        ## TODO balloch: try ground objects. if no real objects remaining, announce imaginary\n",
        "        ## TODO balloch: add a go_to_object +  pick_object subtask\n",
        "\n",
        "    ## deepen:\n",
        "\n",
        "\n",
        "    ## Need to update the objects per question\n",
        "    # if idx+1 < len(story_point_list_present):\n",
        "    #     future_precon = qa_ai(f\"In the context of the story {story}, what objects must {the_characters} interact with before they can reasonably {story_point_list_present[idx+1]}? Only respond with the object names, nothing more. \")  #[Example]'Location Name: <example_location>'\") ### TODO balloch: may need creative ai\n",
        "    state['loc'] = init_loc\n",
        "    state['time'] += 1\n",
        "    print('##state,' , state)\n",
        "\n",
        "    story_tree.subtasks.append(current_task)\n",
        "\n",
        "    # print(f'point_{idx}: ', subdecomp)\n",
        "    # subdecomp = qa_ai(f\"Given the story {story}, in as few steps as possible explain to a 5 year old how to {point_present}\")\n",
        "    # print(f'point_{idx}: ', subdecomp)\n"
      ],
      "metadata": {
        "id": "FDYGvsT8IdVM",
        "colab": {
          "base_uri": "https://localhost:8080/"
        },
        "outputId": "58bf2f96-162b-41d1-88fd-300df8bde2f6"
      },
      "execution_count": null,
      "outputs": [
        {
          "output_type": "stream",
          "name": "stdout",
          "text": [
            "##story_point_list_present,  ['They pack their backpacks with snacks, a treasure map, and a trusty shovel.', \"Follow the map's clues through a dense forest, cross a sparkling river, and climb a steep hill.\", 'They discover a mysterious cave and find a secret passage that leads them deep underground.', 'Explores the dimly lit tunnel and discovers glittering gems and ancient artifacts.', 'They reach a large chamber filled with golden coins, sparkling jewels, and shiny swords, where they find the buried pirate treasure.']\n",
            "##state,  {'time': 0, 'loc': 'The Beach'}\n",
            "##point,  They pack their backpacks with snacks, a treasure map, and a trusty shovel.\n",
            "##Unecessary to Move?,  False.\n",
            "0\n",
            "##next_loc?,  1. The Beach\n",
            "2. Their homes\n",
            "##creative_loc?,  The House of Astro, The House of Playmate\n",
            "##new_locs_list,  ['The Beach', 'Their homes']\n",
            "creative_future_loc,  The Town Square\n",
            "future_loc,  The Town Square\n",
            "##get_objects,  ['snacks', 'treasure map', 'trusty shovel']\n",
            "### snacks possessed or acquired:  True.\n",
            "### snacks how used:  Practical.\n",
            "### treasure map possessed or acquired:  True.\n",
            "### treasure map how used:  Preparation.\n",
            "### trusty shovel possessed or acquired:  True.\n",
            "### trusty shovel how used:  Prepared\n",
            "##state, {'time': 1, 'loc': 'The Town Square'}\n",
            "##point,  Follow the map's clues through a dense forest, cross a sparkling river, and climb a steep hill.\n",
            "##Unecessary to Move?,  False.\n",
            "0\n",
            "##next_loc?,  Town Square, Dense Forest, Sparkling River, Steep Hill\n",
            "##creative_loc?,  The Forest Entrance, The Sparkling River, The Steep Hill\n",
            "WARNING: splitting on commas\n",
            "##new_locs_list,  ['Town Square', 'Dense Forest', 'Sparkling River', 'Steep Hill']\n",
            "creative_future_loc,  The Old Lighthouse\n",
            "future_loc,  The Old Lighthouse\n",
            "##get_objects,  ['map', 'clues', 'forest', 'river', 'hill']\n",
            "### map possessed or acquired:  True.\n",
            "### map how used:  Exploration.\n",
            "### clues possessed or acquired:  True.\n",
            "### clues how used:  Analytical.\n",
            "### forest possessed or acquired:  False.\n",
            "### forest how used:  Adventurous.\n",
            "### river possessed or acquired:  False.\n",
            "### river how used:  Obstacle.\n",
            "### hill possessed or acquired:  False.\n",
            "### hill how used:  Challenging.\n",
            "##state, {'time': 2, 'loc': 'The Old Lighthouse'}\n",
            "##point,  They discover a mysterious cave and find a secret passage that leads them deep underground.\n",
            "##Unecessary to Move?,  False.\n",
            "0\n",
            "##next_loc?,  1. The Old Lighthouse\n",
            "2. Dense forest\n",
            "3. Sparkling river\n",
            "4. Steep hill\n",
            "5. Mysterious cave\n",
            "##creative_loc?,  The Cliffs, The Rocky Path, The Cave Entrance\n",
            "##new_locs_list,  ['The Old Lighthouse', 'Dense forest', 'Sparkling river', 'Steep hill', 'Mysterious cave']\n",
            "creative_future_loc,  The Abandoned Mine\n",
            "future_loc,  The Abandoned Mine\n",
            "##get_objects,  ['cave', 'secret passage']\n",
            "### cave possessed or acquired:  False.\n",
            "### cave how used:  Exploratory.\n",
            "### secret passage possessed or acquired:  False.\n",
            "### secret passage how used:  Curiosity.\n",
            "##state, {'time': 3, 'loc': 'The Abandoned Mine'}\n",
            "##point,  Explores the dimly lit tunnel and discovers glittering gems and ancient artifacts.\n",
            "##Unecessary to Move?,  False.\n",
            "0\n",
            "##next_loc?,  1. The Abandoned Mine\n",
            "2. The Dimly Lit Tunnel\n",
            "##creative_loc?,  The Mine Entrance, The Dark Tunnel\n",
            "##new_locs_list,  ['The Abandoned Mine', 'The Dimly Lit Tunnel']\n",
            "creative_future_loc,  The Pirate's Hideout\n",
            "future_loc,  The Pirate's Hideout\n",
            "##get_objects,  ['tunnel', 'gems', 'artifacts']\n",
            "### tunnel possessed or acquired:  False.\n",
            "### tunnel how used:  Exploration.\n",
            "### gems possessed or acquired:  False.\n",
            "### gems how used:  Decoratively.\n",
            "### artifacts possessed or acquired:  False.\n",
            "### artifacts how used:  Exploration\n",
            "##state, {'time': 4, 'loc': \"The Pirate's Hideout\"}\n",
            "##point,  They reach a large chamber filled with golden coins, sparkling jewels, and shiny swords, where they find the buried pirate treasure.\n",
            "##Unecessary to Move?,  False.\n",
            "0\n",
            "##next_loc?,  1. Dense forest\n",
            "2. Sparkling river\n",
            "3. Steep hill\n",
            "4. Mysterious cave\n",
            "5. Secret passage\n",
            "6. Large chamber\n",
            "##creative_loc?,  The Secret Passage, The Treasure Chamber\n",
            "##new_locs_list,  ['Dense forest', 'Sparkling river', 'Steep hill', 'Mysterious cave', 'Secret passage', 'Large chamber']\n",
            "##get_objects,  ['chamber', 'golden coins', 'sparkling jewels', 'shiny swords', 'buried pirate treasure']\n",
            "### chamber possessed or acquired:  False.\n",
            "### chamber how used:  Treasure.\n",
            "### golden coins possessed or acquired:  False.\n",
            "### golden coins how used:  Treasure.\n",
            "### sparkling jewels possessed or acquired:  False.\n",
            "### sparkling jewels how used:  Decoratively.\n",
            "### shiny swords possessed or acquired:  False.\n",
            "### shiny swords how used:  Adventurously.\n",
            "### buried pirate treasure possessed or acquired:  True.\n",
            "### buried pirate treasure how used:  Discovery\n",
            "##state, {'time': 5, 'loc': \"The Pirate's Hideout\"}\n"
          ]
        }
      ]
    },
    {
      "cell_type": "code",
      "source": [
        "## Visualize\n",
        "from graphviz import Digraph\n",
        "from IPython.display import Image\n",
        "\n",
        "\n",
        "def visualize_task_tree(root_task):\n",
        "    dot = Digraph(comment=\"Task Tree\")\n",
        "    stack = [(root_task, None)]  # Use a stack for depth-first traversal\n",
        "\n",
        "    while stack:\n",
        "        task, parent_id = stack.pop()\n",
        "        task_id = id(task)\n",
        "\n",
        "        if parent_id is not None:\n",
        "            dot.edge(str(parent_id), str(task_id))\n",
        "\n",
        "        dot.node(str(task_id), task.name)\n",
        "\n",
        "        for subtask in task.subtasks:\n",
        "            stack.append((subtask, task_id))\n",
        "\n",
        "    return dot\n",
        "\n",
        "\n",
        "## Main visualization function\n",
        "# Create your Task objects and define their relationships\n",
        "root_task = Task(\"Root Task\", subtasks=[\n",
        "    Task(\"Subtask 1\"),\n",
        "    Task(\"Subtask 2\", subtasks=[\n",
        "        Task(\"Subtask 2.1\"),\n",
        "        Task(\"Subtask 2.2\"),\n",
        "    ]),\n",
        "], root=True)\n",
        "\n",
        "# Visualize the task tree and render the graph\n",
        "dot_graph = visualize_task_tree(story_tree) #root_task)\n",
        "\n",
        "# Render the graph as an image in the notebook\n",
        "dot_graph.format = 'png'\n",
        "graph_image = Image(dot_graph.render(filename='task_tree', format='png', cleanup=True))\n",
        "graph_image\n",
        "\n",
        "\n",
        "# PDF for noninteractive\n",
        "# dot_graph.render(\"task_tree\", view=True)  # Saves the graph as \"task_tree.pdf\" and opens it\n"
      ],
      "metadata": {
        "id": "s3bvrtG4UI5_"
      },
      "execution_count": null,
      "outputs": []
    },
    {
      "cell_type": "code",
      "source": [
        "len(creative_ai.default_session.messages) ##.__dict__.keys())  ## UUID('89bc0a29-1be6-47b2-9e9c-78b07ac2f33b')\n",
        "\n",
        "\n",
        "# creative_ai.default_session.messages.append('temp')"
      ],
      "metadata": {
        "id": "xfheXl7i-Ib4"
      },
      "execution_count": null,
      "outputs": []
    },
    {
      "cell_type": "code",
      "execution_count": null,
      "metadata": {
        "id": "IRe4cA0U1EnZ"
      },
      "outputs": [],
      "source": [
        "corrector_prompt = \"Only give the answer to the question, do not expound on your answers\"\n",
        "decomp = \"In stories, what specific steps do characters take to do the task: '{task}'? \\n Example: Task: Find pirate treasure \\n Steps: \\n  1. Research and gather information. \\n 2. Follow clues or maps. \\n 3. Overcome obstacles. \\n 4. Dig or search. \\n 5. Celebrate and enjoy the discovery.\"\n",
        "get_objects = \"What are the objects in the sentence '{task}'?\"\n",
        "get_actions = \"What are the actions in the sentence '{task}'?\"\n",
        "action_afford = {\n",
        "    'pick up':'pickupable',\n",
        "    'put':'putdownable',\n",
        "    }\n",
        "common_sense_check = 'Is it unusual to {task}?'\n",
        "colocation_execution = 'do {objects} need to be colocated to {task}?'\n",
        "\n",
        "\n",
        "def ensure_succinct(prompt):\n",
        "    correction = qa_ai(corrector_prompt)\n",
        "    ## Sometimes the correction contains the answer, sometimes it just apologizes\n",
        "    if len(correction.split('\\n')) <= 2:\n",
        "        correction = qa_ai(decomp.format(task=prompt))\n",
        "    print('correction: ', correction)\n",
        "    return correction\n",
        "\n",
        "\n",
        "\n",
        "#### Logic Bot #####\n",
        "# prompt = decomp.format(subtask=theme)\n",
        "\n",
        "response = qa_ai(decomp.format(task=theme))\n",
        "print('first response: ', response)\n",
        "response_list = response.split('\\n')\n",
        "if len(response_list[0]) > 30:\n",
        "    ensure_succinct(decomp.format(task=theme))\n",
        "else:\n",
        "    response_list = response.split('\\n')\n",
        "response_list = [s.lstrip('0123456789 .').rstrip('.') for s in response_list]  ## TODO balloch make this a lambda\n",
        "\n",
        "for list_item in response_list:\n",
        "    ## Get objects\n",
        "    objects = qa_ai(get_objects.format(task=list_item) + corrector_prompt).split('\\n')\n",
        "    objects = [s.lstrip('0123456789 .').rstrip('.') for s in objects]\n",
        "    # if len(objects) > 5:\n",
        "    #     ensure_succinct(decomp.format(task=theme))\n",
        "    # else:\n",
        "    #     response_list = response.split('\\n')\n",
        "\n",
        "    print('objects, ', objects)\n",
        "    ## Get actions\n",
        "    actions = qa_ai(get_actions.format(task=list_item) + corrector_prompt).split('\\n')\n",
        "    actions = [s.lstrip('0123456789 .').rstrip('.') for s in actions]\n",
        "    print('actions, ', actions)\n",
        "\n"
      ]
    },
    {
      "cell_type": "code",
      "execution_count": null,
      "metadata": {
        "id": "LH4OKsWu1Ena"
      },
      "outputs": [],
      "source": [
        "system_prompt_plan_assist = \"\"\"You are assisting with planning a sequence of actions to an eventual goal state.\n",
        "\n",
        "Rules you MUST follow:\n",
        "- Always be as concise as possible.\n",
        "- When told to choose from multiple choices, you will not answer with anything other than those choices.\n",
        "\n",
        "If the following is a yes-no question, respond with yes or no, otherwise respond with a step-by-step process.\"\"\"\n"
      ]
    },
    {
      "cell_type": "code",
      "source": [
        "from simpleaichat.utils import fd\n",
        "\n",
        "\n",
        "class Postconditions(BaseModel):\n",
        "    character_name: str = fd(\"Character name\")\n",
        "    dialogue: str = fd(\"Dialogue from the character\")\n",
        "\n",
        "\n",
        "class Preconditions(BaseModel):\n",
        "    description: str = fd(\n",
        "        \"Detailed setting or event description, e.g. The sun was bright.\"\n",
        "    )\n",
        "\n",
        "class Quest(BaseModel):\n",
        "    description: str = fd(\n",
        "        \"The challenge that the players are trying to overcome.\"\n",
        "    )\n",
        "\n",
        "\n",
        "\n",
        "# class Event(BaseModel):\n",
        "#     type: Literal[\"setting\", \"conversation\"] = fd(\n",
        "#         \"Whether the event is a scene setting or a conversation by an NPC\"\n",
        "#     )\n",
        "#     data: Union[Action, Precondition, Postcondition] = fd(\"Event data\")\n",
        "class Event(BaseModel):\n",
        "    type: Literal[\"primitive\", \"module\"] = fd(\n",
        "        \"Whether the event is a scene setting or a conversation by an NPC\"\n",
        "    )\n",
        "    data: Union[Action, Precondition, Postcondition] = fd(\"Event data\")\n",
        "\n",
        "\n",
        "class write_ttrpg_story(BaseModel):\n",
        "    \"\"\"Write an award-winning TTRPG story\"\"\"\n",
        "\n",
        "    events: List[Event] = fd(\"All events in a TTRPG campaign.\")\n",
        "\n"
      ],
      "metadata": {
        "id": "129lxXwSAN9L"
      },
      "execution_count": null,
      "outputs": []
    },
    {
      "cell_type": "code",
      "source": [
        "#Test interactive querying of path\n",
        "ai_plan_assist = AIChat(system=system_prompt_plan_assist, model=model, save_messages=False, api_key=api_key)\n",
        "input_ttrpg = write_ttrpg_setting.model_validate(response_structured)\n",
        "setting = ai_plan_assist(input_ttrpg, input_schema=write_ttrpg_setting)\n",
        "print(orjson.dumps(setting, option=orjson.OPT_INDENT_2).decode())\n",
        "new_ask = input()\n",
        "\n",
        "for i in range(10):\n",
        "    response = ai_plan_assist(new_ask)\n",
        "    print(orjson.dumps(response, option=orjson.OPT_INDENT_2).decode())\n",
        "    new_ask = input()\n",
        "\n",
        "# TODO: need to be able to parse the quest output and the init output\n",
        "# TODO: add a constraint that says \"We know we cannot act if we are not colocated\"\n",
        "# TODO: parse decomp, add them to action buffer, and provide them as a bank\n",
        "# TODO: add an if statement that checks whether an *new* action is basically equivalent to existing actions\n",
        "# TODO (reach goal): have async calls that breakdown forward-and-backward for bidirectional\n",
        "# TODO: questions for decomposition need to be caviated so that there is something like \"Do nothing\"\n",
        "# TODO: filter out suggestions that are (1) too vague or (2) don't move the story forward (maybe ask \"is this something people care about in DnD?\" ----*** checked, this works!)\n",
        "# TODO: make the \"list ask\" an input option so that you do have to always do it\n",
        "# NOTE: doesn't like to take input options as a possibily well."
      ],
      "metadata": {
        "id": "HW_U4HEy_sdf"
      },
      "execution_count": null,
      "outputs": []
    },
    {
      "cell_type": "markdown",
      "source": [
        "Now add the HTN"
      ],
      "metadata": {
        "id": "KuUnGaBU01O9"
      }
    },
    {
      "cell_type": "markdown",
      "source": [
        "# Logic reminders\n",
        "We have a set of V of variable symbols, a set C of constant symbols and sets Fn of n-ary function symbols, also called operator symbols (*,+,-, etc).\n",
        "The set of __terms__ is the set of V, C, and all possible combinations with function symbols F_N(t1,...,tn)\n",
        "In mathematical logic, a __term__ denotes a mathematical object while a __formula__ denotes a mathematical fact\n",
        "For example, ( x + 1 ) * ( x + 1 ) is a __term__ built from the constant 1, the variable x, and the binary function symbols + and *;\n",
        "it is part of the atomic __formula__ ( x + 1 ) * ( x + 1 ) \\geq 0 , which is considered atomic because there are no deeper logics inside it (like predicates).\n",
        "A predicate is a relation: it is a formula with an associated symbol that can be evaluated for truth. in first order logic it may only contain terms.\n",
        "\n",
        "# HTN overview\n",
        "ordered task decomposition planner is an HTN planner that plans for tasks in the same order that they will be executed\n",
        "### Components:\n",
        " a Task is a list of the form of [name, t_1, ...t_n], comprised of the task's name, and [t_1,...,t_n] are terms. The task is primitive if name is a primitive task symbol (a symbol whose first character is an exclamation point)\n",
        "\n",
        "begins with:\n",
        "   - an initial state-of-the-world and\n",
        "   - the objective of creating a plan to perform a set of tasks (abstract representations of things that need to be done).\n",
        "\n",
        "the planner recursively decomposes tasks into subtasks, stopping when it reaches **primitive tasks** that can be performed directly by agents.\n",
        "In order to tell the planner how to decompose nonprimitive tasks into subtasks, it needs to have a set of **methods**,\n",
        "  - each method is a schema for decomposing a particular kind (???) of task into a set of subtasks\n",
        "      - provided that some set of preconditions is satisfied.\n",
        "For each task, there may be more than one applicable method, and thus more than one way to decompose the task into subtasks.\n",
        "\n",
        "Tasks are \"executed\" either directly by an __operator__ if they are primitive or by decomposition by a __method__ if they are non-primitive\n",
        "A __method__ s a triple m = (NT, DEC, P), where NT is a non-primitive task, DEC is a totally-ordered list of tasks called a decomposition of NT,\n",
        "and P (the set of preconditions) is a boolean formula of first-order predicate calculus.\n",
        "An __operator__ is a triple o=(PT,DEL,ADD), where PT is a primitive task,\n",
        "and DEL and ADD are the sets of logical atoms that will be respectively deleted from and added to the world state when the operator is executed.\n",
        "All variables in DEL and ADD must appear in the argument list of PT.\n",
        "\n",
        "**The magic sauce: how do we know which task to associate with which method?**\n",
        "\n",
        "\n",
        "\n",
        "Query LLM: \"How does the child win the game/succeed in the adventure. I.e. What is the core challenge, and how specifically will we know that the challenge has been overcome\"\n",
        "\n",
        "### Define important concepts\n",
        " for all game concepts:\n",
        "   Define detailed concept (game, quest character, etc)\n",
        "   What are the key elements of that concept ()\n",
        "         This should kinda be defined by the needs of the planner right?\n",
        "\n",
        "### Ground important concepts\n",
        "for each detailed concept:\n",
        "\n",
        "\n",
        "## Backward chain preconditions of the game\n",
        "Init: Game objective task\n",
        "Init: Ask LLM for the steps necessary for accomplishing the objective task. This + primitives forms the initial set of tasks\n",
        "\n",
        "For all no primitive tasks in Buffer, DFS:\n",
        "   - Define next subtask that satisfies task:\n",
        "       - If tasks exist in prior task list memoize,\n",
        "       - Else query LLM (with masked sequence?) and add task to list\n",
        "   - If defined task is primitive, assign and iterate out\n",
        "   - Else deepen\n",
        "Return solution tree\n",
        "\n",
        "\n",
        "### In the case of change to the domain/violated assumptions\n",
        "Init: Matrix of all preconditions, and a function that points to the node of the solution tree  based on the inputs to that pointer\n",
        "_[NOTE: I guess this would kinda be a hash map? the key is a hash of the preconditions, and the value is the pointer to the tree node (which as data has a pointer to the task)]_\n"
      ],
      "metadata": {
        "id": "N7OFr1uI5ru2"
      }
    },
    {
      "cell_type": "code",
      "source": [
        "primitive_actions = ['move_forward', 'turn45','goto', 'lookat']"
      ],
      "metadata": {
        "id": "JKzK5KnWA202"
      },
      "execution_count": null,
      "outputs": []
    },
    {
      "cell_type": "code",
      "source": [
        "def find_matching_primitive():\n",
        "    raise NotImplementedError\n",
        "\n",
        "def decomp_with_ai():\n",
        "    raise NotImplementedError\n",
        "\n",
        "\n",
        "task_set = {}\n",
        "\n",
        "task_sequence = []\n",
        "goal_postcondition = response_structured[\"success_metric\"]\n",
        "goal_reachable = False\n",
        "\n",
        "next_postcondition = goal_postcondition\n",
        "first_precondition = response_structured[\"init\"]\n",
        "\n",
        "while not goal_reachable:\n",
        "    primitive_match = find_matching_primitive()\n",
        "    if primitive_match is None:\n",
        "        decomp_with_ai()\n",
        "    else:\n",
        "        task_sequence.append(primitive_match)\n",
        "        next_postcondition = primitive_match.precondition\n",
        "\n",
        "    if first_precondition == task_sequence[0]:\n",
        "        goal_reachable = True\n",
        "\n",
        "\n"
      ],
      "metadata": {
        "id": "ukuEYiMQ004l"
      },
      "execution_count": null,
      "outputs": []
    },
    {
      "cell_type": "markdown",
      "metadata": {
        "id": "Fj6e2I3w1EnZ"
      },
      "source": [
        "## Structured Output and Structured Input\n",
        "\n",
        "Now that we have a schema for a TTRPG setting, we can use the same hints we defined to help generation of a TTRPG adventure!\n",
        "\n",
        "First, we convert the structured `dict` data to a pydantic object with that schema with `parse_obj`:\n"
      ]
    },
    {
      "cell_type": "code",
      "execution_count": null,
      "metadata": {
        "id": "Bbud4o0e1Ena"
      },
      "outputs": [],
      "source": [
        "input_ttrpg = write_ttrpg_setting.model_validate(response_structured)"
      ]
    },
    {
      "cell_type": "markdown",
      "metadata": {
        "id": "GhWDNo2j1Ena"
      },
      "source": [
        "Next, we define a schema for a list of events. To keep things simple, we'll just do **dialogue** and **setting** events. (a proper TTRPG would likely have a more detailed combat system!)\n",
        "\n",
        "There are a few other helpful object types you can use to control output:\n",
        "\n",
        "- `Literal`, to force a certain range of values.\n",
        "- `Union` can be used to have the model select from a set of schema. For example we have one schema for `Dialogue` and one schema for `Setting`: if unioned, the model will use only one of them, which allows for token-saving output.\n",
        "\n",
        "Lastly, if the `Field(description=...)` pattern is too wordy, you can use `fd` which is a shortcut.\n"
      ]
    },
    {
      "cell_type": "code",
      "execution_count": null,
      "metadata": {
        "id": "e14BbvWo1Ena"
      },
      "outputs": [],
      "source": [
        "from simpleaichat.utils import fd\n",
        "\n",
        "\n",
        "class Dialogue(BaseModel):\n",
        "    character_name: str = fd(\"Character name\")\n",
        "    dialogue: str = fd(\"Dialogue from the character\")\n",
        "\n",
        "\n",
        "class Setting(BaseModel):\n",
        "    description: str = fd(\n",
        "        \"Detailed setting or event description, e.g. The sun was bright.\"\n",
        "    )\n",
        "\n",
        "class Quest(BaseModel):\n",
        "    description: str = fd(\n",
        "        \"The challenge that the players are trying to overcome.\"\n",
        "    )\n",
        "\n",
        "\n",
        "\n",
        "class Event(BaseModel):\n",
        "    type: Literal[\"setting\", \"conversation\"] = fd(\n",
        "        \"Whether the event is a scene setting or a conversation by an NPC\"\n",
        "    )\n",
        "    data: Union[Dialogue, Setting] = fd(\"Event data\")\n",
        "\n",
        "\n",
        "class write_ttrpg_story(BaseModel):\n",
        "    \"\"\"Write an award-winning TTRPG story\"\"\"\n",
        "\n",
        "    events: List[Event] = fd(\"All events in a TTRPG campaign.\")"
      ]
    },
    {
      "cell_type": "markdown",
      "metadata": {
        "id": "lHv7ERQW1Ena"
      },
      "source": [
        "Lastly, we'll need a new system prompt since we have a different goal.\n"
      ]
    },
    {
      "cell_type": "markdown",
      "metadata": {
        "id": "kpOH-Lrv1Enb"
      },
      "source": [
        "For the final call, we will need the parsed `input_ttrpg` object as the new \"prompt\", plus the `write_ttrpg_setting` schema used to build it as the `input_schema`.\n",
        "\n",
        "Putting it all together:\n"
      ]
    },
    {
      "cell_type": "code",
      "execution_count": null,
      "metadata": {
        "id": "xGBCl7pu1Enb",
        "outputId": "469e1d27-39cd-4f68-e71e-fef5cd3287dc",
        "colab": {
          "base_uri": "https://localhost:8080/"
        }
      },
      "outputs": [
        {
          "output_type": "stream",
          "name": "stdout",
          "text": [
            "{\n",
            "  \"events\": [\n",
            "    {\n",
            "      \"type\": \"setting\",\n",
            "      \"data\": {\n",
            "        \"description\": \"In the land of Pythoria, a mystical realm where the power of code reigns supreme, a group of software developers find themselves transported to a parallel world where their coding skills are put to the ultimate test. In this world, the lines of code they write have the power to shape reality itself. But they are not alone in this journey, as they are joined by a team of beach volleyball players who have been granted extraordinary powers by the ocean gods. Together, they must navigate the treacherous landscapes of Pythoria, battle fearsome creatures spawned from debugging nightmares, and uncover the secrets of this realm. Will they triumph and find their way back home, or will they be forever lost in the world of Python software development and beach volleyball?\"\n",
            "      }\n",
            "    },\n",
            "    {\n",
            "      \"type\": \"conversation\",\n",
            "      \"data\": {\n",
            "        \"character_name\": \"Aurora\",\n",
            "        \"dialogue\": \"We find ourselves in a strange land, my friends. Our coding skills are now our most powerful weapons. But fear not, for we are not alone. We are joined by a team of beach volleyball players who have also been granted extraordinary powers. Together, we shall face the challenges that lie ahead and find our way back home.\"\n",
            "      }\n",
            "    },\n",
            "    {\n",
            "      \"type\": \"conversation\",\n",
            "      \"data\": {\n",
            "        \"character_name\": \"Kai\",\n",
            "        \"dialogue\": \"Indeed, Aurora. Our skills in coding and volleyball may seem unconventional, but they make us a formidable team. With my enchanted arrows and tactical analysis, and your coding magic, we shall overcome any obstacle.\"\n",
            "      }\n",
            "    },\n",
            "    {\n",
            "      \"type\": \"conversation\",\n",
            "      \"data\": {\n",
            "        \"character_name\": \"Aurora\",\n",
            "        \"dialogue\": \"But first, we must gather the rest of our party. Let us seek out the others who have been transported to this realm and join forces.\"\n",
            "      }\n",
            "    },\n",
            "    {\n",
            "      \"type\": \"conversation\",\n",
            "      \"data\": {\n",
            "        \"character_name\": \"Kai\",\n",
            "        \"dialogue\": \"Agreed, Aurora. Our first ally should be someone with expertise in debugging and problem-solving. They will be invaluable in this world where code shapes reality.\"\n",
            "      }\n",
            "    },\n",
            "    {\n",
            "      \"type\": \"conversation\",\n",
            "      \"data\": {\n",
            "        \"character_name\": \"Aurora\",\n",
            "        \"dialogue\": \"I have heard of a legendary software engineer named Maelis who possesses such skills. Let us seek them out and convince them to join our cause.\"\n",
            "      }\n",
            "    },\n",
            "    {\n",
            "      \"type\": \"conversation\",\n",
            "      \"data\": {\n",
            "        \"character_name\": \"Kai\",\n",
            "        \"dialogue\": \"Very well, Aurora. Let us embark on this quest and find Maelis. They may hold the key to our success in this strange realm.\"\n",
            "      }\n",
            "    },\n",
            "    {\n",
            "      \"type\": \"conversation\",\n",
            "      \"data\": {\n",
            "        \"character_name\": \"Aurora\",\n",
            "        \"dialogue\": \"Our journey begins. May the power of code and sands guide us.\"\n",
            "      }\n",
            "    },\n",
            "    {\n",
            "      \"type\": \"conversation\",\n",
            "      \"data\": {\n",
            "        \"character_name\": \"Kai\",\n",
            "        \"dialogue\": \"And may our skills in coding and volleyball bring us victory.\"\n",
            "      }\n",
            "    },\n",
            "    {\n",
            "      \"type\": \"conversation\",\n",
            "      \"data\": {\n",
            "        \"character_name\": \"Aurora\",\n",
            "        \"dialogue\": \"Onward, my friends. To find Maelis and unravel the mysteries of Pythoria!\"\n",
            "      }\n",
            "    }\n",
            "  ]\n",
            "}\n"
          ]
        }
      ],
      "source": [
        "ai_plan_assist = AIChat(system=system_prompt_plan_assist, model=model, save_messages=False, api_key=api_key)\n",
        "\n",
        "response_story = ai_plan_assist(\n",
        "    input_ttrpg, input_schema=write_ttrpg_setting, output_schema=write_ttrpg_story\n",
        ")\n",
        "\n",
        "print(orjson.dumps(response_story, option=orjson.OPT_INDENT_2).decode())"
      ]
    },
    {
      "cell_type": "markdown",
      "metadata": {
        "id": "Dh8tJNvu1Enb"
      },
      "source": [
        "Now that we have a structured output, we can output it like a story, with custom and consistent formatting!"
      ]
    },
    {
      "cell_type": "code",
      "execution_count": null,
      "metadata": {
        "id": "riBjuckW1Enb",
        "outputId": "a83d4953-f437-496a-96a7-bc8ac642d805",
        "colab": {
          "base_uri": "https://localhost:8080/",
          "height": 689
        }
      },
      "outputs": [
        {
          "output_type": "display_data",
          "data": {
            "text/plain": [
              "\u001b[3mIn the land of Pythoria, a mystical realm where the power of\u001b[0m\n",
              "\u001b[3mcode reigns supreme, a group of software developers find \u001b[0m\n",
              "\u001b[3mthemselves transported to a parallel world where their \u001b[0m\n",
              "\u001b[3mcoding skills are put to the ultimate test. In this world, \u001b[0m\n",
              "\u001b[3mthe lines of code they write have the power to shape reality\u001b[0m\n",
              "\u001b[3mitself. But they are not alone in this journey, as they are \u001b[0m\n",
              "\u001b[3mjoined by a team of beach volleyball players who have been \u001b[0m\n",
              "\u001b[3mgranted extraordinary powers by the ocean gods. Together, \u001b[0m\n",
              "\u001b[3mthey must navigate the treacherous landscapes of Pythoria, \u001b[0m\n",
              "\u001b[3mbattle fearsome creatures spawned from debugging nightmares,\u001b[0m\n",
              "\u001b[3mand uncover the secrets of this realm. Will they triumph and\u001b[0m\n",
              "\u001b[3mfind their way back home, or will they be forever lost in \u001b[0m\n",
              "\u001b[3mthe world of Python software development and beach \u001b[0m\n",
              "\u001b[3mvolleyball?\u001b[0m\n"
            ],
            "text/html": [
              "<pre style=\"white-space:pre;overflow-x:auto;line-height:normal;font-family:Menlo,'DejaVu Sans Mono',consolas,'Courier New',monospace\"><span style=\"font-style: italic\">In the land of Pythoria, a mystical realm where the power of</span>\n",
              "<span style=\"font-style: italic\">code reigns supreme, a group of software developers find </span>\n",
              "<span style=\"font-style: italic\">themselves transported to a parallel world where their </span>\n",
              "<span style=\"font-style: italic\">coding skills are put to the ultimate test. In this world, </span>\n",
              "<span style=\"font-style: italic\">the lines of code they write have the power to shape reality</span>\n",
              "<span style=\"font-style: italic\">itself. But they are not alone in this journey, as they are </span>\n",
              "<span style=\"font-style: italic\">joined by a team of beach volleyball players who have been </span>\n",
              "<span style=\"font-style: italic\">granted extraordinary powers by the ocean gods. Together, </span>\n",
              "<span style=\"font-style: italic\">they must navigate the treacherous landscapes of Pythoria, </span>\n",
              "<span style=\"font-style: italic\">battle fearsome creatures spawned from debugging nightmares,</span>\n",
              "<span style=\"font-style: italic\">and uncover the secrets of this realm. Will they triumph and</span>\n",
              "<span style=\"font-style: italic\">find their way back home, or will they be forever lost in </span>\n",
              "<span style=\"font-style: italic\">the world of Python software development and beach </span>\n",
              "<span style=\"font-style: italic\">volleyball?</span>\n",
              "</pre>\n"
            ]
          },
          "metadata": {}
        },
        {
          "output_type": "display_data",
          "data": {
            "text/plain": [
              "\u001b[1mAurora\u001b[0m: We find ourselves in a strange land, my friends. Our\n",
              "coding skills are now our most powerful weapons. But fear \n",
              "not, for we are not alone. We are joined by a team of beach \n",
              "volleyball players who have also been granted extraordinary \n",
              "powers. Together, we shall face the challenges that lie \n",
              "ahead and find our way back home.\n"
            ],
            "text/html": [
              "<pre style=\"white-space:pre;overflow-x:auto;line-height:normal;font-family:Menlo,'DejaVu Sans Mono',consolas,'Courier New',monospace\"><span style=\"font-weight: bold\">Aurora</span>: We find ourselves in a strange land, my friends. Our\n",
              "coding skills are now our most powerful weapons. But fear \n",
              "not, for we are not alone. We are joined by a team of beach \n",
              "volleyball players who have also been granted extraordinary \n",
              "powers. Together, we shall face the challenges that lie \n",
              "ahead and find our way back home.\n",
              "</pre>\n"
            ]
          },
          "metadata": {}
        },
        {
          "output_type": "display_data",
          "data": {
            "text/plain": [
              "\u001b[1mKai\u001b[0m: Indeed, Aurora. Our skills in coding and volleyball may\n",
              "seem unconventional, but they make us a formidable team. \n",
              "With my enchanted arrows and tactical analysis, and your \n",
              "coding magic, we shall overcome any obstacle.\n"
            ],
            "text/html": [
              "<pre style=\"white-space:pre;overflow-x:auto;line-height:normal;font-family:Menlo,'DejaVu Sans Mono',consolas,'Courier New',monospace\"><span style=\"font-weight: bold\">Kai</span>: Indeed, Aurora. Our skills in coding and volleyball may\n",
              "seem unconventional, but they make us a formidable team. \n",
              "With my enchanted arrows and tactical analysis, and your \n",
              "coding magic, we shall overcome any obstacle.\n",
              "</pre>\n"
            ]
          },
          "metadata": {}
        },
        {
          "output_type": "display_data",
          "data": {
            "text/plain": [
              "\u001b[1mAurora\u001b[0m: But first, we must gather the rest of our party. Let\n",
              "us seek out the others who have been transported to this \n",
              "realm and join forces.\n"
            ],
            "text/html": [
              "<pre style=\"white-space:pre;overflow-x:auto;line-height:normal;font-family:Menlo,'DejaVu Sans Mono',consolas,'Courier New',monospace\"><span style=\"font-weight: bold\">Aurora</span>: But first, we must gather the rest of our party. Let\n",
              "us seek out the others who have been transported to this \n",
              "realm and join forces.\n",
              "</pre>\n"
            ]
          },
          "metadata": {}
        },
        {
          "output_type": "display_data",
          "data": {
            "text/plain": [
              "\u001b[1mKai\u001b[0m: Agreed, Aurora. Our first ally should be someone with \n",
              "expertise in debugging and problem-solving. They will be \n",
              "invaluable in this world where code shapes reality.\n"
            ],
            "text/html": [
              "<pre style=\"white-space:pre;overflow-x:auto;line-height:normal;font-family:Menlo,'DejaVu Sans Mono',consolas,'Courier New',monospace\"><span style=\"font-weight: bold\">Kai</span>: Agreed, Aurora. Our first ally should be someone with \n",
              "expertise in debugging and problem-solving. They will be \n",
              "invaluable in this world where code shapes reality.\n",
              "</pre>\n"
            ]
          },
          "metadata": {}
        },
        {
          "output_type": "display_data",
          "data": {
            "text/plain": [
              "\u001b[1mAurora\u001b[0m: I have heard of a legendary software engineer named \n",
              "Maelis who possesses such skills. Let us seek them out and \n",
              "convince them to join our cause.\n"
            ],
            "text/html": [
              "<pre style=\"white-space:pre;overflow-x:auto;line-height:normal;font-family:Menlo,'DejaVu Sans Mono',consolas,'Courier New',monospace\"><span style=\"font-weight: bold\">Aurora</span>: I have heard of a legendary software engineer named \n",
              "Maelis who possesses such skills. Let us seek them out and \n",
              "convince them to join our cause.\n",
              "</pre>\n"
            ]
          },
          "metadata": {}
        },
        {
          "output_type": "display_data",
          "data": {
            "text/plain": [
              "\u001b[1mKai\u001b[0m: Very well, Aurora. Let us embark on this quest and find\n",
              "Maelis. They may hold the key to our success in this strange\n",
              "realm.\n"
            ],
            "text/html": [
              "<pre style=\"white-space:pre;overflow-x:auto;line-height:normal;font-family:Menlo,'DejaVu Sans Mono',consolas,'Courier New',monospace\"><span style=\"font-weight: bold\">Kai</span>: Very well, Aurora. Let us embark on this quest and find\n",
              "Maelis. They may hold the key to our success in this strange\n",
              "realm.\n",
              "</pre>\n"
            ]
          },
          "metadata": {}
        },
        {
          "output_type": "display_data",
          "data": {
            "text/plain": [
              "\u001b[1mAurora\u001b[0m: Our journey begins. May the power of code and sands \n",
              "guide us.\n"
            ],
            "text/html": [
              "<pre style=\"white-space:pre;overflow-x:auto;line-height:normal;font-family:Menlo,'DejaVu Sans Mono',consolas,'Courier New',monospace\"><span style=\"font-weight: bold\">Aurora</span>: Our journey begins. May the power of code and sands \n",
              "guide us.\n",
              "</pre>\n"
            ]
          },
          "metadata": {}
        },
        {
          "output_type": "display_data",
          "data": {
            "text/plain": [
              "\u001b[1mKai\u001b[0m: And may our skills in coding and volleyball bring us \n",
              "victory.\n"
            ],
            "text/html": [
              "<pre style=\"white-space:pre;overflow-x:auto;line-height:normal;font-family:Menlo,'DejaVu Sans Mono',consolas,'Courier New',monospace\"><span style=\"font-weight: bold\">Kai</span>: And may our skills in coding and volleyball bring us \n",
              "victory.\n",
              "</pre>\n"
            ]
          },
          "metadata": {}
        },
        {
          "output_type": "display_data",
          "data": {
            "text/plain": [
              "\u001b[1mAurora\u001b[0m: Onward, my friends. To find Maelis and unravel the \n",
              "mysteries of Pythoria!\n"
            ],
            "text/html": [
              "<pre style=\"white-space:pre;overflow-x:auto;line-height:normal;font-family:Menlo,'DejaVu Sans Mono',consolas,'Courier New',monospace\"><span style=\"font-weight: bold\">Aurora</span>: Onward, my friends. To find Maelis and unravel the \n",
              "mysteries of Pythoria!\n",
              "</pre>\n"
            ]
          },
          "metadata": {}
        }
      ],
      "source": [
        "c = Console(width=60, highlight=False)\n",
        "\n",
        "for event in response_story[\"events\"]:\n",
        "    data = event[\"data\"]\n",
        "    if event[\"type\"] == \"setting\":\n",
        "        c.print(data[\"description\"], style=\"italic\")\n",
        "    if event[\"type\"] == \"conversation\":\n",
        "        c.print(f\"[b]{data['character_name']}[/b]: {data['dialogue']}\")"
      ]
    },
    {
      "cell_type": "code",
      "source": [],
      "metadata": {
        "id": "oiidYKxpX9-7"
      },
      "execution_count": null,
      "outputs": []
    },
    {
      "cell_type": "code",
      "source": [
        "## The Real World\n",
        "## I imagine this as a graph of objects with properties, but we can start with a set\n",
        "SceneGraph = {\n",
        "    refrigerator_1,\n",
        "    refrigerator_2,\n",
        "    refrigerator_3,\n",
        "    kitchen_island_1,\n",
        "    electric_kettle_1,\n",
        "    electric_kettle_2,\n",
        "    coffee_machine_1,\n",
        "    coffee_machine_2,\n",
        "    microwave_1,\n",
        "    microwave_2,\n",
        "    folgers_coffee_can_1,\n",
        "    lipton_tea_can_1,\n",
        "    door_south_1,\n",
        "    door_north_1,\n",
        "    garbage_can_1,\n",
        "    garbage_can_door_1,\n",
        "    sink_1,\n",
        "}\n",
        "\n",
        "\n",
        "\n",
        "## Embodied Interactive Story Telling\n",
        "## Starting information\n",
        "\n",
        "players = [\"Human\",\"Astro\"] ## NOT IMPLEMENTED YET\n",
        "character_names = [\"Agent Cool Kid\", \"AstroWatson\"]\n",
        "storyteller_name = \"Astro\"\n",
        "quest = \"Find and defuse the stink bomb before the clock gets to zero, and figure out who planted it.\"\n",
        "word_limit = 50  # word limit for task brainstorming\n",
        "lesson = \"Notice when others need help and help them\" ## NOT IMPLEMENTED YET\n",
        "\n",
        "game_description = f\"\"\"Here is the topic for an imaginatery interactive game: {quest}.\n",
        "        The characters are: {*character_names,}.\n",
        "        The story is directed and managed by the storyteller, {storyteller_name}.\"\"\"\n"
      ],
      "metadata": {
        "id": "z504gHIVr60J"
      },
      "execution_count": null,
      "outputs": []
    },
    {
      "cell_type": "code",
      "source": [
        "# model = \"gpt-3.5-turbo-0613\"\n",
        "# ai = AIChat(system=system_prompt, model=model, save_messages=False, api_key=api_key)\n",
        "\n",
        "template = \"\"\"You are a senior staff role playing game designer.\n",
        "You use a tone that is technical, child friendly, and creative.\n",
        "You are direct and brief in your answers,\n",
        "but more detailed when you need to be\n",
        "\n",
        "{history}\n",
        "Human: {human_input}\n",
        "Assistant:\"\"\"\n",
        "\n",
        "system_prompt_event = \"\"\"You are a world-renowned game master (GM) of\n",
        "family-friendly role-playing games (RPGs).\n",
        "\n",
        "Write a complete three-act story in at least 9 events\n",
        "with a shocking twist ending using the data from the\n",
        "input_ttrpg function.\n",
        "\n",
        "Write the player characters as a TTRPG party\n",
        "fighting against a new evil.\n",
        "\n",
        "In the second (2nd) event, the party must be formed.\n",
        "\n",
        "Rules you MUST follow:\n",
        "- Always write in the style of 80's fantasy novels.\n",
        "- All names you create must be creative and unique. Always subvert expectations.\"\"\"\n",
        "\n",
        "ai_2 = AIChat(system=system_prompt_event,\n",
        "              model=model,\n",
        "              save_messages=False,\n",
        "              api_key=api_key)\n",
        "\n",
        "input_ttrpg = write_ttrpg_setting.model_validate(response_structured)\n",
        "\n",
        "response_story = ai_2(\n",
        "    input_ttrpg,\n",
        "    input_schema=write_ttrpg_setting,\n",
        "    output_schema=write_ttrpg_story\n",
        ")\n",
        "\n"
      ],
      "metadata": {
        "id": "nasNCMuPalHZ"
      },
      "execution_count": null,
      "outputs": []
    },
    {
      "cell_type": "code",
      "source": [
        "# response = ai(\"Find and defuse the stink bomb before the clock gets to zero, and figure out who planted it.\",\n",
        "#             #   input_schema=write_ttrpg_setting,\n",
        "#               output_schema=write_ttrpg_setting\n",
        "            #   )\n",
        "print(orjson.dumps(response_story, option=orjson.OPT_INDENT_2).decode())"
      ],
      "metadata": {
        "colab": {
          "base_uri": "https://localhost:8080/"
        },
        "id": "dEKxMB1gdIUy",
        "outputId": "d47d1e66-a501-4336-e2f3-3f8b6dbd5aa4"
      },
      "execution_count": null,
      "outputs": [
        {
          "output_type": "stream",
          "name": "stdout",
          "text": [
            "{\n",
            "  \"events\": [\n",
            "    {\n",
            "      \"type\": \"setting\",\n",
            "      \"data\": {\n",
            "        \"description\": \"Welcome to the world of Pytharia, a land where the art of software development and the thrill of beach volleyball collide. In this unique setting, players will take on the roles of mighty programmers and skilled volleyball players, using their wit, agility, and teamwork to conquer challenges both on and off the court. Pytharia is a realm where coding prowess and athletic ability are equally revered, and only those who excel in both domains can truly claim the title of champion. Prepare to embark on a quest filled with epic coding battles, intense volleyball matches, and unexpected twists and turns. The fate of Pytharia rests in your hands. Will you rise to the challenge and become a legend?\"\n",
            "      }\n",
            "    },\n",
            "    {\n",
            "      \"type\": \"conversation\",\n",
            "      \"data\": {\n",
            "        \"character_name\": \"Aurelia Swiftstrike\",\n",
            "        \"dialogue\": \"Xander, we must assemble a team of programmers and volleyball players to combat the new evil that has emerged in Pytharia. Our skills alone are not enough to face this threat. We need allies. Are you with me?\"\n",
            "      }\n",
            "    },\n",
            "    {\n",
            "      \"type\": \"conversation\",\n",
            "      \"data\": {\n",
            "        \"character_name\": \"Xander Ironforge\",\n",
            "        \"dialogue\": \"Aurelia, you know I'll always have your back. Count me in. But who else should we recruit for our team?\"\n",
            "      }\n",
            "    },\n",
            "    {\n",
            "      \"type\": \"conversation\",\n",
            "      \"data\": {\n",
            "        \"character_name\": \"Aurelia Swiftstrike\",\n",
            "        \"dialogue\": \"I have heard of a legendary Ruby Rogue named Sapphire Shadowblade. They are said to possess unparalleled coding skills and are a formidable opponent on the volleyball court. Let's seek them out and see if they are willing to join our cause.\"\n",
            "      }\n",
            "    },\n",
            "    {\n",
            "      \"type\": \"conversation\",\n",
            "      \"data\": {\n",
            "        \"character_name\": \"Xander Ironforge\",\n",
            "        \"dialogue\": \"Agreed. Sapphire Shadowblade could be a valuable asset to our team. Let's find them and convince them to join us.\"\n",
            "      }\n",
            "    },\n",
            "    {\n",
            "      \"type\": \"conversation\",\n",
            "      \"data\": {\n",
            "        \"character_name\": \"Sapphire Shadowblade\",\n",
            "        \"dialogue\": \"You seek my assistance? What makes you think I would join forces with the likes of you?\"\n",
            "      }\n",
            "    },\n",
            "    {\n",
            "      \"type\": \"conversation\",\n",
            "      \"data\": {\n",
            "        \"character_name\": \"Aurelia Swiftstrike\",\n",
            "        \"dialogue\": \"Sapphire Shadowblade, we have heard tales of your incredible coding skills and your prowess on the volleyball court. We believe that together, we can defeat the new evil that threatens Pytharia.\"\n",
            "      }\n",
            "    },\n",
            "    {\n",
            "      \"type\": \"conversation\",\n",
            "      \"data\": {\n",
            "        \"character_name\": \"Sapphire Shadowblade\",\n",
            "        \"dialogue\": \"Hmm... You make a compelling argument. Very well, I will join your team. But do not think for a moment that I trust you completely.\"\n",
            "      }\n",
            "    },\n",
            "    {\n",
            "      \"type\": \"conversation\",\n",
            "      \"data\": {\n",
            "        \"character_name\": \"Xander Ironforge\",\n",
            "        \"dialogue\": \"Welcome to the team, Sapphire Shadowblade. With our combined skills, we will be unstoppable. Let us prepare for the battles ahead and protect Pytharia from this new evil.\"\n",
            "      }\n",
            "    }\n",
            "  ]\n",
            "}\n"
          ]
        }
      ]
    },
    {
      "cell_type": "code",
      "source": [
        "# print(response.__dict__.keys())\n",
        "print(response[\"names\"])"
      ],
      "metadata": {
        "colab": {
          "base_uri": "https://localhost:8080/",
          "height": 193
        },
        "id": "CpSLL8ZQkYxX",
        "outputId": "4a0f358c-0f4a-468b-a41c-f75a65aab591"
      },
      "execution_count": null,
      "outputs": [
        {
          "output_type": "error",
          "ename": "TypeError",
          "evalue": "ignored",
          "traceback": [
            "\u001b[0;31m---------------------------------------------------------------------------\u001b[0m",
            "\u001b[0;31mTypeError\u001b[0m                                 Traceback (most recent call last)",
            "\u001b[0;32m<ipython-input-9-f6ef64a2746f>\u001b[0m in \u001b[0;36m<cell line: 2>\u001b[0;34m()\u001b[0m\n\u001b[1;32m      1\u001b[0m \u001b[0;31m# print(response.__dict__.keys())\u001b[0m\u001b[0;34m\u001b[0m\u001b[0;34m\u001b[0m\u001b[0m\n\u001b[0;32m----> 2\u001b[0;31m \u001b[0mprint\u001b[0m\u001b[0;34m(\u001b[0m\u001b[0mresponse\u001b[0m\u001b[0;34m[\u001b[0m\u001b[0;34m\"names\"\u001b[0m\u001b[0;34m]\u001b[0m\u001b[0;34m)\u001b[0m\u001b[0;34m\u001b[0m\u001b[0;34m\u001b[0m\u001b[0m\n\u001b[0m",
            "\u001b[0;31mTypeError\u001b[0m: string indices must be integers"
          ]
        }
      ]
    },
    {
      "cell_type": "markdown",
      "metadata": {
        "id": "M3UU1bO81Enb"
      },
      "source": [
        "## MIT License\n",
        "\n",
        "Copyright (c) 2023 Max Woolf\n",
        "\n",
        "Permission is hereby granted, free of charge, to any person obtaining a copy\n",
        "of this software and associated documentation files (the \"Software\"), to deal\n",
        "in the Software without restriction, including without limitation the rights\n",
        "to use, copy, modify, merge, publish, distribute, sublicense, and/or sell\n",
        "copies of the Software, and to permit persons to whom the Software is\n",
        "furnished to do so, subject to the following conditions:\n",
        "\n",
        "The above copyright notice and this permission notice shall be included in all\n",
        "copies or substantial portions of the Software.\n",
        "\n",
        "THE SOFTWARE IS PROVIDED \"AS IS\", WITHOUT WARRANTY OF ANY KIND, EXPRESS OR\n",
        "IMPLIED, INCLUDING BUT NOT LIMITED TO THE WARRANTIES OF MERCHANTABILITY,\n",
        "FITNESS FOR A PARTICULAR PURPOSE AND NONINFRINGEMENT. IN NO EVENT SHALL THE\n",
        "AUTHORS OR COPYRIGHT HOLDERS BE LIABLE FOR ANY CLAIM, DAMAGES OR OTHER\n",
        "LIABILITY, WHETHER IN AN ACTION OF CONTRACT, TORT OR OTHERWISE, ARISING FROM,\n",
        "OUT OF OR IN CONNECTION WITH THE SOFTWARE OR THE USE OR OTHER DEALINGS IN THE\n",
        "SOFTWARE."
      ]
    }
  ],
  "metadata": {
    "kernelspec": {
      "display_name": "Python 3",
      "language": "python",
      "name": "python3"
    },
    "language_info": {
      "codemirror_mode": {
        "name": "ipython",
        "version": 3
      },
      "file_extension": ".py",
      "mimetype": "text/x-python",
      "name": "python",
      "nbconvert_exporter": "python",
      "pygments_lexer": "ipython3",
      "version": "3.9.12"
    },
    "orig_nbformat": 4,
    "colab": {
      "provenance": [],
      "include_colab_link": true
    }
  },
  "nbformat": 4,
  "nbformat_minor": 0
}